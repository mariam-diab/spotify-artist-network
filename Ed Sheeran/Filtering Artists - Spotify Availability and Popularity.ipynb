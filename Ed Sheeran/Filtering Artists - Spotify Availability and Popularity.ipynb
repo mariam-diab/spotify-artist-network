{
 "cells": [
  {
   "cell_type": "code",
   "execution_count": 1,
   "id": "7fc41c71",
   "metadata": {},
   "outputs": [],
   "source": [
    "import spotipy\n",
    "from spotipy.oauth2 import SpotifyClientCredentials\n",
    "import matplotlib.pyplot as plt\n",
    "import pickle\n",
    "from IPython.display import clear_output"
   ]
  },
  {
   "cell_type": "code",
   "execution_count": 2,
   "id": "7794c773",
   "metadata": {},
   "outputs": [],
   "source": [
    "# Set up your Spotify API credentials\n",
    "client_id = \"18a4e28b9dc24f26af1784355d28702f\"\n",
    "client_secret = \"ed200af6e6744c90acde3f58d96999ed\"\n",
    "\n",
    "# Set up Spotipy client\n",
    "client_credentials_manager = SpotifyClientCredentials(client_id=client_id, client_secret=client_secret)\n",
    "spotify = spotipy.Spotify(client_credentials_manager=client_credentials_manager)"
   ]
  },
  {
   "cell_type": "code",
   "execution_count": 3,
   "id": "09187cee",
   "metadata": {},
   "outputs": [
    {
     "name": "stdout",
     "output_type": "stream",
     "text": [
      "38919\n"
     ]
    }
   ],
   "source": [
    "with open('foreign.txt', 'r', encoding='utf-8') as file:\n",
    "    artist_names = file.read().splitlines()\n",
    "\n",
    "print(len(artist_names))"
   ]
  },
  {
   "cell_type": "code",
   "execution_count": 4,
   "id": "a7abc34b",
   "metadata": {},
   "outputs": [],
   "source": [
    "popularity_scores = []\n",
    "connection_errors = []"
   ]
  },
  {
   "cell_type": "code",
   "execution_count": 5,
   "id": "9381e2ca",
   "metadata": {},
   "outputs": [
    {
     "name": "stdout",
     "output_type": "stream",
     "text": [
      "21245\n",
      "Artist 'Among Them' has low popularity.\n"
     ]
    }
   ],
   "source": [
    "for artist_name in artist_names:\n",
    "    print(artist_names.index(artist_name))\n",
    "    try:\n",
    "        # Search for the artist on Spotify\n",
    "        results = spotify.search(q=artist_name, type=\"artist\", limit=50)\n",
    "        \n",
    "        if len(results[\"artists\"][\"items\"]) <= 0:\n",
    "            print(f\"Artist '{artist_name}' not found on Spotify.\")\n",
    "            artist_names.remove(artist_name)\n",
    "        else:\n",
    "            artist = results[\"artists\"][\"items\"][0]\n",
    "            popularity = artist[\"popularity\"]\n",
    "            \n",
    "            if popularity < 50:\n",
    "                print(f\"Artist '{artist_name}' has low popularity.\")\n",
    "                artist_names.remove(artist_name)\n",
    "            else:\n",
    "                popularity_scores.append(popularity)\n",
    "\n",
    "    except Exception as e:\n",
    "        print(f\"Connection error occurred for artist {artist_name}\")\n",
    "        connection_errors.append(index)\n",
    "        artist_names.remove(artist_name)\n",
    "\n",
    "    clear_output(wait=True)"
   ]
  },
  {
   "cell_type": "code",
   "execution_count": 7,
   "id": "f40e152d",
   "metadata": {},
   "outputs": [],
   "source": [
    "with open('foreign.txt', 'w', encoding='utf-8') as file:\n",
    "    file.write('\\n'.join(artist_names))"
   ]
  },
  {
   "cell_type": "code",
   "execution_count": 8,
   "id": "77ff439c",
   "metadata": {},
   "outputs": [
    {
     "data": {
      "image/png": "[encoded data removed]",
      "text/plain": [
       "<Figure size 640x480 with 1 Axes>"
      ]
     },
     "metadata": {},
     "output_type": "display_data"
    }
   ],
   "source": [
    "# Create a distribution graph of artist popularity\n",
    "plt.hist(popularity_scores, bins=20, edgecolor=\"black\")\n",
    "plt.xlabel(\"Popularity\")\n",
    "plt.ylabel(\"Frequency\")\n",
    "plt.title(\"Distribution of Artist Popularity on Spotify\")\n",
    "plt.show()"
   ]
  },
  {
   "cell_type": "code",
   "execution_count": 9,
   "id": "6a82a9bd",
   "metadata": {},
   "outputs": [
    {
     "name": "stdout",
     "output_type": "stream",
     "text": [
      "Average Polarity: 61.738315141337814\n"
     ]
    }
   ],
   "source": [
    "average_polarity = sum(popularity_scores) / len(popularity_scores)\n",
    "print(\"Average Polarity:\", average_polarity)"
   ]
  },
  {
   "cell_type": "code",
   "execution_count": null,
   "id": "75994fb2",
   "metadata": {},
   "outputs": [],
   "source": []
  }
 ],
 "metadata": {
  "kernelspec": {
   "display_name": "Python 3 (ipykernel)",
   "language": "python",
   "name": "python3"
  },
  "language_info": {
   "codemirror_mode": {
    "name": "ipython",
    "version": 3
   },
   "file_extension": ".py",
   "mimetype": "text/x-python",
   "name": "python",
   "nbconvert_exporter": "python",
   "pygments_lexer": "ipython3",
   "version": "3.9.13"
  }
 },
 "nbformat": 4,
 "nbformat_minor": 5
}
