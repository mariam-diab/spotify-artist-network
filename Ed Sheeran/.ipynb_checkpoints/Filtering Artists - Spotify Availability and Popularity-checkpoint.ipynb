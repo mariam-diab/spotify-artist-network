{
 "cells": [
  {
   "cell_type": "code",
   "execution_count": 1,
   "id": "7fc41c71",
   "metadata": {},
   "outputs": [],
   "source": [
    "import spotipy\n",
    "from spotipy.oauth2 import SpotifyClientCredentials\n",
    "import matplotlib.pyplot as plt\n",
    "import pickle\n",
    "from IPython.display import clear_output"
   ]
  },
  {
   "cell_type": "code",
   "execution_count": 2,
   "id": "a7abc34b",
   "metadata": {},
   "outputs": [],
   "source": [
    "popularity_scores = []\n",
    "connection_errors = []"
   ]
  },
  {
   "cell_type": "code",
   "execution_count": null,
   "id": "7794c773",
   "metadata": {},
   "outputs": [],
   "source": [
    "# Set up your Spotify API credentials\n",
    "client_id = \"0cfa37a14ec3467d8a502794acdba7f6\"\n",
    "client_secret = \"c1a5dc173e7d4a8c8192c35fbbaea199\"\n",
    "\n",
    "# Set up Spotipy client\n",
    "client_credentials_manager = SpotifyClientCredentials(client_id=client_id, client_secret=client_secret)\n",
    "spotify = spotipy.Spotify(client_credentials_manager=client_credentials_manager)"
   ]
  },
  {
   "cell_type": "code",
   "execution_count": null,
   "id": "09187cee",
   "metadata": {},
   "outputs": [],
   "source": [
    "with open('foreign.txt', 'r', encoding='utf-8') as file:\n",
    "    artist_names = file.read().splitlines()\n",
    "print(len(artist_names))"
   ]
  },
  {
   "cell_type": "code",
   "execution_count": null,
   "id": "9381e2ca",
   "metadata": {},
   "outputs": [],
   "source": [
    "for artist_name in artist_names:\n",
    "    print(artist_names.index(artist_name)) #to check at which index an error happens\n",
    "    try:\n",
    "        # Search for the artist on Spotify\n",
    "        results = spotify.search(q=artist_name, type=\"artist\", limit=1)\n",
    "        if popularity < 50:\n",
    "            print(f\"Artist '{artist_name}' has low popularity.\")\n",
    "            artist_names.remove(artist_name)\n",
    "\n",
    "        else if len(results[\"artists\"][\"items\"]) <= 0:\n",
    "            print(f\"Artist '{artist_name}' not found on Spotify.\")\n",
    "            artist_names.remove(artist_name)\n",
    "        else:\n",
    "            artist = results[\"artists\"][\"items\"][0]\n",
    "            popularity = artist[\"popularity\"]\n",
    "            popularity_scores.append(popularity)\n",
    "            \n",
    "    except Exception as e:\n",
    "        print(f\"Connection error occurred for artist '{artist_name}\")\n",
    "        connection_errors.append(artist_name)\n",
    "        artist_names.remove(artist_name)\n",
    "            \n",
    "    with open('popularity_scores.pickle', 'wb') as file:\n",
    "        pickle.dump(popularity_scores, file)\n",
    "    \n",
    "    with open('connection_errors.pickle', 'wb') as file:\n",
    "        pickle.dump(connection_errors, file)\n",
    "        \n",
    "    with open('artist_names.pickle', 'wb') as file:\n",
    "        pickle.dump(artist_names, file)\n",
    "        \n",
    "    clear_output(wait=True)"
   ]
  },
  {
   "cell_type": "code",
   "execution_count": null,
   "id": "d366516f",
   "metadata": {},
   "outputs": [],
   "source": [
    "# Create a distribution graph of artist popularity\n",
    "plt.hist(popularity_scores, bins=20, edgecolor=\"black\")\n",
    "plt.xlabel(\"Popularity\")\n",
    "plt.ylabel(\"Frequency\")\n",
    "plt.title(\"Distribution of Artist Popularity on Spotify\")\n",
    "plt.show()"
   ]
  },
  {
   "cell_type": "code",
   "execution_count": null,
   "id": "c810f6bd",
   "metadata": {},
   "outputs": [],
   "source": [
    "average_polarity = sum(popularity_scores) / len(popularity_scores)\n",
    "print(\"Average Polarity:\", average_polarity)"
   ]
  }
 ],
 "metadata": {
  "kernelspec": {
   "display_name": "Python 3 (ipykernel)",
   "language": "python",
   "name": "python3"
  },
  "language_info": {
   "codemirror_mode": {
    "name": "ipython",
    "version": 3
   },
   "file_extension": ".py",
   "mimetype": "text/x-python",
   "name": "python",
   "nbconvert_exporter": "python",
   "pygments_lexer": "ipython3",
   "version": "3.9.13"
  }
 },
 "nbformat": 4,
 "nbformat_minor": 5
}
