{
 "cells": [
  {
   "cell_type": "code",
   "execution_count": 1,
   "id": "44c86f23",
   "metadata": {},
   "outputs": [],
   "source": [
    "import requests\n",
    "from bs4 import BeautifulSoup"
   ]
  },
  {
   "cell_type": "code",
   "execution_count": 2,
   "id": "9612134e",
   "metadata": {},
   "outputs": [],
   "source": [
    "# Base URL of the Last.fm Egyptian artists page\n",
    "base_url = 'https://www.last.fm/tag/egyptian/artists?page='"
   ]
  },
  {
   "cell_type": "code",
   "execution_count": 3,
   "id": "e8166fe8",
   "metadata": {},
   "outputs": [],
   "source": [
    "# Create an empty list to store all artist names\n",
    "artist_names = []"
   ]
  },
  {
   "cell_type": "code",
   "execution_count": 4,
   "id": "920f01bc",
   "metadata": {},
   "outputs": [],
   "source": [
    "# Iterate through all 44 pages\n",
    "for page in range(1, 45):\n",
    "    # Construct the URL for the current page\n",
    "    url = base_url + str(page)\n",
    "    \n",
    "    # Send a GET request to the URL\n",
    "    response = requests.get(url)\n",
    "    \n",
    "    # Create a BeautifulSoup object to parse the HTML content\n",
    "    soup = BeautifulSoup(response.content, 'html.parser')\n",
    "    \n",
    "    # Find the artist name elements\n",
    "    artist_elements = soup.find_all('a', class_='link-block-target')\n",
    "    \n",
    "    # Extract the artist names and add them to the list\n",
    "    artist_names.extend([element.get_text() for element in artist_elements])"
   ]
  },
  {
   "cell_type": "code",
   "execution_count": 5,
   "id": "ebe9d4b3",
   "metadata": {},
   "outputs": [],
   "source": [
    "# Append the artist names to the existing file\n",
    "with open('artists.txt', 'a', encoding='utf-8') as file:\n",
    "    for name in artist_names:\n",
    "        file.write(name + '\\n')"
   ]
  }
 ],
 "metadata": {
  "kernelspec": {
   "display_name": "Python 3 (ipykernel)",
   "language": "python",
   "name": "python3"
  },
  "language_info": {
   "codemirror_mode": {
    "name": "ipython",
    "version": 3
   },
   "file_extension": ".py",
   "mimetype": "text/x-python",
   "name": "python",
   "nbconvert_exporter": "python",
   "pygments_lexer": "ipython3",
   "version": "3.11.1"
  }
 },
 "nbformat": 4,
 "nbformat_minor": 5
}
