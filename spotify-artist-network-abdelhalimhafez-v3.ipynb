{
 "cells": [
  {
   "cell_type": "markdown",
   "id": "42a06f61",
   "metadata": {
    "papermill": {
     "duration": 0.02313,
     "end_time": "2022-02-27T23:27:52.717128",
     "exception": false,
     "start_time": "2022-02-27T23:27:52.693998",
     "status": "completed"
    },
    "tags": []
   },
   "source": [
    "# Load the libraries"
   ]
  },
  {
   "cell_type": "code",
   "execution_count": 1,
   "id": "e31fdf75",
   "metadata": {
    "_cell_guid": "b1076dfc-b9ad-4769-8c92-a6c4dae69d19",
    "_uuid": "8f2839f25d086af736a60e9eeb907d3b93b6e0e5",
    "execution": {
     "iopub.execute_input": "2022-02-27T23:27:52.771916Z",
     "iopub.status.busy": "2022-02-27T23:27:52.766936Z",
     "iopub.status.idle": "2022-02-27T23:27:53.194181Z",
     "shell.execute_reply": "2022-02-27T23:27:53.193349Z",
     "shell.execute_reply.started": "2022-01-03T23:37:19.38535Z"
    },
    "papermill": {
     "duration": 0.454908,
     "end_time": "2022-02-27T23:27:53.194348",
     "exception": false,
     "start_time": "2022-02-27T23:27:52.739440",
     "status": "completed"
    },
    "tags": []
   },
   "outputs": [],
   "source": [
    "import numpy as np\n",
    "import networkx as nx\n",
    "import matplotlib.pyplot as plt\n",
    "from IPython.display import clear_output\n",
    "import spotipy\n",
    "from spotipy.oauth2 import SpotifyClientCredentials"
   ]
  },
  {
   "cell_type": "markdown",
   "id": "2a51ea69",
   "metadata": {
    "papermill": {
     "duration": 0.021356,
     "end_time": "2022-02-27T23:28:07.007605",
     "exception": false,
     "start_time": "2022-02-27T23:28:06.986249",
     "status": "completed"
    },
    "tags": []
   },
   "source": [
    "## Access to Spotify API\n",
    "This part sets up the Spotify API access by providing the client ID and client secret. It uses the SpotifyClientCredentials class from Spotipy to authenticate and create a Spotify client."
   ]
  },
  {
   "cell_type": "code",
   "execution_count": 2,
   "id": "8ecc604e",
   "metadata": {
    "execution": {
     "iopub.execute_input": "2022-02-27T23:28:07.053760Z",
     "iopub.status.busy": "2022-02-27T23:28:07.053089Z",
     "iopub.status.idle": "2022-02-27T23:28:07.057640Z",
     "shell.execute_reply": "2022-02-27T23:28:07.058220Z",
     "shell.execute_reply.started": "2022-01-03T23:37:29.080346Z"
    },
    "papermill": {
     "duration": 0.029153,
     "end_time": "2022-02-27T23:28:07.058382",
     "exception": false,
     "start_time": "2022-02-27T23:28:07.029229",
     "status": "completed"
    },
    "tags": []
   },
   "outputs": [],
   "source": [
    "client_id = \"8275ae5a64fc43dfa77675027d68c1df\"\n",
    "client_secret = \"1ac1e6317aa840d5a50935ed1689535d\" \n",
    "\n",
    "credmanager = SpotifyClientCredentials(client_id=client_id, client_secret=client_secret)\n",
    "sp = spotipy.Spotify(client_credentials_manager=credmanager)"
   ]
  },
  {
   "cell_type": "markdown",
   "id": "863bc57a",
   "metadata": {
    "papermill": {
     "duration": 0.021296,
     "end_time": "2022-02-27T23:28:07.101418",
     "exception": false,
     "start_time": "2022-02-27T23:28:07.080122",
     "status": "completed"
    },
    "tags": []
   },
   "source": [
    "# Demonstrating some features of Spotify API\n",
    "\n",
    "This part demonstrates how to use the Spotify API to search for an artist, retrieve their information, and find related artists."
   ]
  },
  {
   "cell_type": "code",
   "execution_count": 3,
   "id": "d4d00bf7",
   "metadata": {
    "execution": {
     "iopub.execute_input": "2022-02-27T23:28:07.148053Z",
     "iopub.status.busy": "2022-02-27T23:28:07.147410Z",
     "iopub.status.idle": "2022-02-27T23:28:07.686032Z",
     "shell.execute_reply": "2022-02-27T23:28:07.686602Z",
     "shell.execute_reply.started": "2022-01-03T23:37:29.087149Z"
    },
    "papermill": {
     "duration": 0.563544,
     "end_time": "2022-02-27T23:28:07.686770",
     "exception": false,
     "start_time": "2022-02-27T23:28:07.123226",
     "status": "completed"
    },
    "tags": []
   },
   "outputs": [
    {
     "data": {
      "text/plain": [
       "{'external_urls': {'spotify': 'https://open.spotify.com/artist/6IW026WCYU8L1WF79dfwss'},\n",
       " 'followers': {'href': None, 'total': 1155248},\n",
       " 'genres': ['classic arab pop'],\n",
       " 'href': 'https://api.spotify.com/v1/artists/6IW026WCYU8L1WF79dfwss',\n",
       " 'id': '6IW026WCYU8L1WF79dfwss',\n",
       " 'images': [{'height': 640,\n",
       "   'url': 'https://i.scdn.co/image/ab6761610000e5eb8a09ed6b6710081bace4da41',\n",
       "   'width': 640},\n",
       "  {'height': 320,\n",
       "   'url': 'https://i.scdn.co/image/ab676161000051748a09ed6b6710081bace4da41',\n",
       "   'width': 320},\n",
       "  {'height': 160,\n",
       "   'url': 'https://i.scdn.co/image/ab6761610000f1788a09ed6b6710081bace4da41',\n",
       "   'width': 160}],\n",
       " 'name': 'Abdel Halim Hafez',\n",
       " 'popularity': 47,\n",
       " 'type': 'artist',\n",
       " 'uri': 'spotify:artist:6IW026WCYU8L1WF79dfwss'}"
      ]
     },
     "execution_count": 3,
     "metadata": {},
     "output_type": "execute_result"
    }
   ],
   "source": [
    "abdelhalim_search = sp.search('Abdel Halim Hafez', type='artist')['artists']['items'][0]\n",
    "abdelhalim_search"
   ]
  },
  {
   "cell_type": "markdown",
   "id": "44edb0a7",
   "metadata": {
    "papermill": {
     "duration": 0.022377,
     "end_time": "2022-02-27T23:28:07.731480",
     "exception": false,
     "start_time": "2022-02-27T23:28:07.709103",
     "status": "completed"
    },
    "tags": []
   },
   "source": [
    "## Searching Abdel Halim Hafez\n",
    "\n",
    "Performs a search for the artist \"Abdel Halim Hafez\" using the sp.search function and retrieves the search results. It then extracts important features of the artist, such as name, ID, popularity, genre, and number of followers."
   ]
  },
  {
   "cell_type": "code",
   "execution_count": 4,
   "id": "3d2154bb",
   "metadata": {
    "execution": {
     "iopub.execute_input": "2022-02-27T23:28:07.780050Z",
     "iopub.status.busy": "2022-02-27T23:28:07.778995Z",
     "iopub.status.idle": "2022-02-27T23:28:07.784741Z",
     "shell.execute_reply": "2022-02-27T23:28:07.785213Z",
     "shell.execute_reply.started": "2022-01-03T23:37:29.404198Z"
    },
    "papermill": {
     "duration": 0.031638,
     "end_time": "2022-02-27T23:28:07.785385",
     "exception": false,
     "start_time": "2022-02-27T23:28:07.753747",
     "status": "completed"
    },
    "tags": []
   },
   "outputs": [],
   "source": [
    "def artist_features(spotify_search_result):\n",
    "    result = {\n",
    "        'artist_name': spotify_search_result.get('name', 'artist_name_not_available'),\n",
    "        'artist_id': spotify_search_result.get('id', 'artist_id_not_available'),\n",
    "        'artist_popularity': spotify_search_result.get('popularity', 0),\n",
    "        'artist_first_genre': (spotify_search_result.get('genres', ['genre_not_available']) + ['genre_not_available'])[0],\n",
    "        'artist_n_followers': spotify_search_result.get('followers', {}).get('total', 0)\n",
    "    }\n",
    "    return result"
   ]
  },
  {
   "cell_type": "code",
   "execution_count": 5,
   "id": "9b9ab438",
   "metadata": {
    "execution": {
     "iopub.execute_input": "2022-02-27T23:28:07.833672Z",
     "iopub.status.busy": "2022-02-27T23:28:07.832656Z",
     "iopub.status.idle": "2022-02-27T23:28:07.838274Z",
     "shell.execute_reply": "2022-02-27T23:28:07.838805Z",
     "shell.execute_reply.started": "2022-01-03T23:37:29.413561Z"
    },
    "papermill": {
     "duration": 0.031496,
     "end_time": "2022-02-27T23:28:07.838995",
     "exception": false,
     "start_time": "2022-02-27T23:28:07.807499",
     "status": "completed"
    },
    "tags": []
   },
   "outputs": [
    {
     "data": {
      "text/plain": [
       "{'artist_name': 'Abdel Halim Hafez',\n",
       " 'artist_id': '6IW026WCYU8L1WF79dfwss',\n",
       " 'artist_popularity': 47,\n",
       " 'artist_first_genre': 'classic arab pop',\n",
       " 'artist_n_followers': 1155248}"
      ]
     },
     "execution_count": 5,
     "metadata": {},
     "output_type": "execute_result"
    }
   ],
   "source": [
    "abdelhalim_features = artist_features(abdelhalim_search)\n",
    "abdelhalim_features"
   ]
  },
  {
   "cell_type": "markdown",
   "id": "755c2acf",
   "metadata": {
    "papermill": {
     "duration": 0.023291,
     "end_time": "2022-02-27T23:28:07.930097",
     "exception": false,
     "start_time": "2022-02-27T23:28:07.906806",
     "status": "completed"
    },
    "tags": []
   },
   "source": [
    "## Retrieving related artists\n",
    "\n",
    "It retrieves the related artists of Abdel Halim Hafez using the sp.artist_related_artists function. It prints the number of related artists and displays some information about the first 20 related artists."
   ]
  },
  {
   "cell_type": "code",
   "execution_count": 6,
   "id": "f7470b34",
   "metadata": {
    "execution": {
     "iopub.execute_input": "2022-02-27T23:28:07.979386Z",
     "iopub.status.busy": "2022-02-27T23:28:07.978720Z",
     "iopub.status.idle": "2022-02-27T23:28:08.020631Z",
     "shell.execute_reply": "2022-02-27T23:28:08.019986Z",
     "shell.execute_reply.started": "2022-01-03T23:37:29.42673Z"
    },
    "papermill": {
     "duration": 0.067808,
     "end_time": "2022-02-27T23:28:08.020771",
     "exception": false,
     "start_time": "2022-02-27T23:28:07.952963",
     "status": "completed"
    },
    "tags": []
   },
   "outputs": [
    {
     "name": "stdout",
     "output_type": "stream",
     "text": [
      "Abdel Halim Hafez has 20 related artists. The first one is {abdelhalim_related_artists[0][artist_name]}.\n",
      "\n",
      "{'artist_name': 'George Wassouf', 'artist_id': '7Ddov9nbJDbpgzvBVb7cU1', 'artist_popularity': 49, 'artist_first_genre': 'arab pop', 'artist_n_followers': 1746793}\n",
      "{'artist_name': 'Samira Said', 'artist_id': '5zHWEsVHtXWQRxPqwJdUYD', 'artist_popularity': 39, 'artist_first_genre': 'arab pop', 'artist_n_followers': 999516}\n",
      "{'artist_name': 'Angham', 'artist_id': '0IiR4LJwslf6HBSdk9W3Dg', 'artist_popularity': 48, 'artist_first_genre': 'arab pop', 'artist_n_followers': 1468009}\n",
      "{'artist_name': 'Elissa', 'artist_id': '68rvMwPL0yMbYR5cv0pzCR', 'artist_popularity': 54, 'artist_first_genre': 'arab pop', 'artist_n_followers': 3083701}\n",
      "{'artist_name': 'Fadel Chaker', 'artist_id': '1LljnS3oumQ36wdBhkPKrs', 'artist_popularity': 49, 'artist_first_genre': 'arab pop', 'artist_n_followers': 1517222}\n",
      "{'artist_name': 'Wael Jassar', 'artist_id': '5HczG7gdd89oDKY0CUyPof', 'artist_popularity': 52, 'artist_first_genre': 'arab pop', 'artist_n_followers': 1746588}\n",
      "{'artist_name': 'Fairuz', 'artist_id': '0dwFxqYkvZLSA6U6XfQcDV', 'artist_popularity': 59, 'artist_first_genre': 'classic arab pop', 'artist_n_followers': 1346185}\n",
      "{'artist_name': 'Wael Kfoury', 'artist_id': '09A6IffSw0t8L8sfuOCVws', 'artist_popularity': 53, 'artist_first_genre': 'arab pop', 'artist_n_followers': 1418052}\n",
      "{'artist_name': 'Mohamed Fouad', 'artist_id': '4FzNAmPr13nex81xINu16D', 'artist_popularity': 46, 'artist_first_genre': 'arab pop', 'artist_n_followers': 1805476}\n",
      "{'artist_name': 'Majida El Roumi', 'artist_id': '1FcYCSOydUCgoauspPwypS', 'artist_popularity': 41, 'artist_first_genre': 'arab pop', 'artist_n_followers': 404457}\n",
      "{'artist_name': 'Marwan Khoury', 'artist_id': '6e6VucoDJD6bmJPlnO7AkN', 'artist_popularity': 41, 'artist_first_genre': 'arab pop', 'artist_n_followers': 821768}\n",
      "{'artist_name': 'Farid al-Atrash', 'artist_id': '0NIoaQcBpp3jyF2fkkQtuw', 'artist_popularity': 38, 'artist_first_genre': 'arab folk', 'artist_n_followers': 207326}\n",
      "{'artist_name': 'Amr Diab', 'artist_id': '5abSRg0xN1NV3gLbuvX24M', 'artist_popularity': 61, 'artist_first_genre': 'arab pop', 'artist_n_followers': 5476823}\n",
      "{'artist_name': 'Mohamed Mounir', 'artist_id': '6hPNpOLunxxpXVwi696pYl', 'artist_popularity': 49, 'artist_first_genre': 'arab pop', 'artist_n_followers': 1425495}\n",
      "{'artist_name': 'Carole Samaha', 'artist_id': '0CSSBwiYmYF569NxdQedQ3', 'artist_popularity': 46, 'artist_first_genre': 'arab pop', 'artist_n_followers': 980816}\n",
      "{'artist_name': 'Lena Chamamyan', 'artist_id': '0LH01nWLQote2HIUL87BLc', 'artist_popularity': 38, 'artist_first_genre': 'arab folk', 'artist_n_followers': 153919}\n",
      "{'artist_name': 'Hisham Abbas', 'artist_id': '6OQ7sfN0G1E2pZMhYW9wjG', 'artist_popularity': 41, 'artist_first_genre': 'arab pop', 'artist_n_followers': 445033}\n",
      "{'artist_name': 'Ragheb Alama', 'artist_id': '6uOgBVYHvqTGAQ5iVHDVT7', 'artist_popularity': 51, 'artist_first_genre': 'classic arab pop', 'artist_n_followers': 1314871}\n",
      "{'artist_name': 'Najwa Karam', 'artist_id': '5Nmm8A6gr93sRxz1SckQj1', 'artist_popularity': 41, 'artist_first_genre': 'arab pop', 'artist_n_followers': 925451}\n",
      "{'artist_name': 'Ramy Sabry', 'artist_id': '5LtHZB7vU02HtNoOzNcVhc', 'artist_popularity': 55, 'artist_first_genre': 'arab pop', 'artist_n_followers': 1496539}\n"
     ]
    }
   ],
   "source": [
    "abdelhalim_related_artists = sp.artist_related_artists(abdelhalim_features['artist_id'])['artists']\n",
    "\n",
    "print('Abdel Halim Hafez has', len(abdelhalim_related_artists), 'related artists. The first one is {abdelhalim_related_artists[0][artist_name]}.\\n')\n",
    "\n",
    "for i in range(20):\n",
    "    print(artist_features(abdelhalim_related_artists[i]))"
   ]
  },
  {
   "cell_type": "markdown",
   "id": "1b35d7bb",
   "metadata": {
    "papermill": {
     "duration": 0.023007,
     "end_time": "2022-02-27T23:28:08.066944",
     "exception": false,
     "start_time": "2022-02-27T23:28:08.043937",
     "status": "completed"
    },
    "tags": []
   },
   "source": [
    "Every artist on Spotify has only 20 related artists."
   ]
  },
  {
   "cell_type": "markdown",
   "id": "97ee8bd3",
   "metadata": {
    "papermill": {
     "duration": 0.02336,
     "end_time": "2022-02-27T23:28:08.161647",
     "exception": false,
     "start_time": "2022-02-27T23:28:08.138287",
     "status": "completed"
    },
    "tags": []
   },
   "source": [
    "# Create a graph\n",
    "\n",
    "This part demonstrates how to create a graph representation using the networkx library. It creates an empty undirected graph and sets a popularity threshold. It adds initial nodes to the graph based on a list of artist names stored in a file."
   ]
  },
  {
   "cell_type": "code",
   "execution_count": 7,
   "id": "73e88754",
   "metadata": {
    "execution": {
     "iopub.execute_input": "2022-02-27T23:28:08.212156Z",
     "iopub.status.busy": "2022-02-27T23:28:08.211501Z",
     "iopub.status.idle": "2022-02-27T23:28:08.214666Z",
     "shell.execute_reply": "2022-02-27T23:28:08.215259Z",
     "shell.execute_reply.started": "2022-01-03T23:37:29.48343Z"
    },
    "papermill": {
     "duration": 0.030008,
     "end_time": "2022-02-27T23:28:08.215435",
     "exception": false,
     "start_time": "2022-02-27T23:28:08.185427",
     "status": "completed"
    },
    "tags": []
   },
   "outputs": [],
   "source": [
    "G = nx.Graph() # create an empty graph\n",
    "\n",
    "popularity_threshold = 80 # if an artist have a lower popularity, it won't be in our graph."
   ]
  },
  {
   "cell_type": "markdown",
   "id": "36665ce6",
   "metadata": {
    "papermill": {
     "duration": 0.022995,
     "end_time": "2022-02-27T23:28:08.261787",
     "exception": false,
     "start_time": "2022-02-27T23:28:08.238792",
     "status": "completed"
    },
    "tags": []
   },
   "source": [
    "## Add some initial nodes to the graph\n",
    "\n",
    "It reads the artist names from a file and searches for each artist using the Spotify API. If the artist is sufficiently popular (above the popularity threshold), it adds the artist as a node to the graph, with attributes representing the artist's features."
   ]
  },
  {
   "cell_type": "code",
   "execution_count": 10,
   "id": "54ff7b6d",
   "metadata": {
    "execution": {
     "iopub.execute_input": "2022-02-27T23:28:08.311253Z",
     "iopub.status.busy": "2022-02-27T23:28:08.310607Z",
     "iopub.status.idle": "2022-02-27T23:28:08.316178Z",
     "shell.execute_reply": "2022-02-27T23:28:08.316689Z",
     "shell.execute_reply.started": "2022-01-03T23:37:29.489698Z"
    },
    "papermill": {
     "duration": 0.031831,
     "end_time": "2022-02-27T23:28:08.316864",
     "exception": false,
     "start_time": "2022-02-27T23:28:08.285033",
     "status": "completed"
    },
    "tags": []
   },
   "outputs": [
    {
     "name": "stdout",
     "output_type": "stream",
     "text": [
      "There are 4530 artists in the initial list.\n"
     ]
    }
   ],
   "source": [
    "with open('artists.txt', 'r', encoding='utf-8') as file:\n",
    "    artists_name_list = file.read().splitlines()\n",
    "\n",
    "print('There are', len(artists_name_list), 'artists in the initial list.')"
   ]
  },
  {
   "cell_type": "code",
   "execution_count": null,
   "id": "ae91b697",
   "metadata": {
    "execution": {
     "iopub.execute_input": "2022-02-27T23:28:08.413760Z",
     "iopub.status.busy": "2022-02-27T23:28:08.413112Z",
     "iopub.status.idle": "2022-02-27T23:28:09.103941Z",
     "shell.execute_reply": "2022-02-27T23:28:09.103349Z",
     "shell.execute_reply.started": "2022-01-03T23:37:29.502558Z"
    },
    "papermill": {
     "duration": 0.716962,
     "end_time": "2022-02-27T23:28:09.104107",
     "exception": false,
     "start_time": "2022-02-27T23:28:08.387145",
     "status": "completed"
    },
    "tags": []
   },
   "outputs": [
    {
     "name": "stdout",
     "output_type": "stream",
     "text": [
      "Amir is not a popular artist, we do not add it to our graph.\n",
      "there are 4067 nonpopular artists\n"
     ]
    }
   ],
   "source": [
    "not_popular = 0\n",
    "for name in artists_name_list:\n",
    "    if name.strip() == \"\":\n",
    "        continue\n",
    "    try:\n",
    "        search_results = sp.search(name, type='artist')['artists']['items']\n",
    "        if search_results:\n",
    "            search = search_results[0]\n",
    "            this_artist = artist_features(search)\n",
    "            if this_artist['artist_popularity'] >= popularity_threshold:\n",
    "                G.add_node(this_artist['artist_name'], **this_artist, related_found=False)\n",
    "            else:\n",
    "                not_popular+=1\n",
    "                clear_output(wait=True)\n",
    "                print(name, 'is not a popular artist, we do not add it to our graph.')\n",
    "                print(f\"there are {not_popular} nonpopular artists\")\n",
    "        else:\n",
    "            print(name, 'could not be found.')\n",
    "    except spotipy.SpotifyException as e:\n",
    "        print(\"An error occurred while searching for\", name)\n",
    "        print(\"Error message:\", str(e))\n",
    "        print(f\"there are {not_popular} nonpopular artists\")"
   ]
  },
  {
   "cell_type": "markdown",
   "id": "d20a2ac1",
   "metadata": {
    "papermill": {
     "duration": 0.024598,
     "end_time": "2022-02-27T23:28:09.200877",
     "exception": false,
     "start_time": "2022-02-27T23:28:09.176279",
     "status": "completed"
    },
    "tags": []
   },
   "source": [
    "## Adding edges and more nodes to the graph\n",
    "\n",
    "This part iterates through the nodes in the graph and finds their related artists, adding them as nodes and creating edges between the artists. The process continues until there are no new artists to add or the number of artists in the graph exceeds 1000."
   ]
  },
  {
   "cell_type": "code",
   "execution_count": null,
   "id": "7a16b6cc",
   "metadata": {
    "execution": {
     "iopub.execute_input": "2022-02-27T23:28:09.306885Z",
     "iopub.status.busy": "2022-02-27T23:28:09.306172Z",
     "iopub.status.idle": "2022-02-27T23:28:30.824159Z",
     "shell.execute_reply": "2022-02-27T23:28:30.824684Z",
     "shell.execute_reply.started": "2022-01-03T23:37:30.295659Z"
    },
    "papermill": {
     "duration": 21.550987,
     "end_time": "2022-02-27T23:28:30.824861",
     "exception": false,
     "start_time": "2022-02-27T23:28:09.273874",
     "status": "completed"
    },
    "tags": []
   },
   "outputs": [],
   "source": [
    "dummy = 0\n",
    "\n",
    "while dummy == 0:\n",
    "    l = len(G)  # number of nodes in the graph currently\n",
    "    num_edges = len(G.edges)  # number of edges in the graph currently\n",
    "    \n",
    "    for x in list(G):  # iterate each node\n",
    "        if G.nodes[x]['related_found'] == False:  # then we need to find its related artists\n",
    "            relateds = sp.artist_related_artists(G.nodes[x]['artist_id'])['artists']\n",
    "            relateds = [artist_features(r) for r in relateds]\n",
    "            relateds_names = [r['artist_name'] for r in relateds]\n",
    "            G.nodes[x]['related_found'] = True  # it was False, but now we found its related artists\n",
    "            \n",
    "            for rname, rdict in zip(relateds_names, relateds):\n",
    "                if rdict['artist_popularity'] >= popularity_threshold:\n",
    "                    \n",
    "                    if rname in G:  # node already in G\n",
    "                        pass  # do nothing\n",
    "                    \n",
    "                    else:\n",
    "                        G.add_node(rname, **rdict, related_found=False)  # we added a new node, we don't know its relateds yet\n",
    "                        clear_output(wait=True)\n",
    "                        print('The graph has', len(G), 'nodes now.')\n",
    "                        \n",
    "                    G.add_edge(x, rname)  # we add an edge between x and its related rname\n",
    "    \n",
    "    if len(G) == l or len(G) > 1000:  # number of nodes didn't change or graph grew too large\n",
    "        dummy = 1  # break the while loop\n",
    "        print('Done.')\n",
    "    \n",
    "    num_new_edges = len(G.edges) - num_edges\n",
    "    print('Number of edges:', num_new_edges)"
   ]
  },
  {
   "cell_type": "markdown",
   "id": "fa45da4e",
   "metadata": {
    "papermill": {
     "duration": 0.024214,
     "end_time": "2022-02-27T23:28:30.873920",
     "exception": false,
     "start_time": "2022-02-27T23:28:30.849706",
     "status": "completed"
    },
    "tags": []
   },
   "source": [
    "# Analysis and Visualization\n",
    "\n",
    "This part performs analysis on the created graph, including finding the number of connected components and plotting the degree distribution. It also visualizes the graph using the nx.draw_networkx function from the networkx library."
   ]
  },
  {
   "cell_type": "code",
   "execution_count": null,
   "id": "35c81675",
   "metadata": {
    "execution": {
     "iopub.execute_input": "2022-02-27T23:28:30.978424Z",
     "iopub.status.busy": "2022-02-27T23:28:30.977620Z",
     "iopub.status.idle": "2022-02-27T23:28:30.981404Z",
     "shell.execute_reply": "2022-02-27T23:28:30.980791Z",
     "shell.execute_reply.started": "2022-01-03T23:37:45.611416Z"
    },
    "papermill": {
     "duration": 0.034233,
     "end_time": "2022-02-27T23:28:30.981551",
     "exception": false,
     "start_time": "2022-02-27T23:28:30.947318",
     "status": "completed"
    },
    "tags": []
   },
   "outputs": [],
   "source": [
    "# connected components\n",
    "n_connected = nx.number_connected_components(G)\n",
    "print('The graph has', n_connected, 'connected components.')"
   ]
  },
  {
   "cell_type": "code",
   "execution_count": null,
   "id": "120c5bcc",
   "metadata": {},
   "outputs": [],
   "source": [
    "degree_hist = nx.degree_histogram(G)\n",
    "\n",
    "degrees = range(len(degree_hist))\n",
    "counts = degree_hist\n",
    "\n",
    "plt.bar(degrees, counts)\n",
    "plt.xlabel('Degree')\n",
    "plt.ylabel('Number of Nodes')\n",
    "plt.title('Degree Distribution')\n",
    "plt.show()\n"
   ]
  },
  {
   "cell_type": "markdown",
   "id": "628f941e",
   "metadata": {
    "papermill": {
     "duration": 0.024497,
     "end_time": "2022-02-27T23:28:31.030747",
     "exception": false,
     "start_time": "2022-02-27T23:28:31.006250",
     "status": "completed"
    },
    "tags": []
   },
   "source": [
    "By looking at the table, we can say that more than 800 nodes had a degree (number of neighbors) of exactly 3.\n",
    "\n",
    "Also, there are 1 nodes with degree 69 and 2 nodes with degree 51."
   ]
  },
  {
   "cell_type": "code",
   "execution_count": null,
   "id": "3670e2db",
   "metadata": {
    "execution": {
     "iopub.execute_input": "2022-02-27T23:28:31.456052Z",
     "iopub.status.busy": "2022-02-27T23:28:31.450436Z",
     "iopub.status.idle": "2022-02-27T23:28:33.201239Z",
     "shell.execute_reply": "2022-02-27T23:28:33.201762Z",
     "shell.execute_reply.started": "2022-01-03T23:37:45.893856Z"
    },
    "papermill": {
     "duration": 1.781369,
     "end_time": "2022-02-27T23:28:33.201939",
     "exception": false,
     "start_time": "2022-02-27T23:28:31.420570",
     "status": "completed"
    },
    "tags": []
   },
   "outputs": [],
   "source": [
    "G.remove_node('Joey Bada$$')\n",
    "np.random.seed(0)\n",
    "plt.figure(figsize=(20,20))\n",
    "nx.draw_networkx(G, with_labels=True, node_color=(.7,.8,.8), font_size=5)"
   ]
  }
 ],
 "metadata": {
  "kernelspec": {
   "display_name": "Python 3 (ipykernel)",
   "language": "python",
   "name": "python3"
  },
  "language_info": {
   "codemirror_mode": {
    "name": "ipython",
    "version": 3
   },
   "file_extension": ".py",
   "mimetype": "text/x-python",
   "name": "python",
   "nbconvert_exporter": "python",
   "pygments_lexer": "ipython3",
   "version": "3.11.1"
  },
  "papermill": {
   "default_parameters": {},
   "duration": 51.595145,
   "end_time": "2022-02-27T23:28:34.079532",
   "environment_variables": {},
   "exception": null,
   "input_path": "__notebook__.ipynb",
   "output_path": "__notebook__.ipynb",
   "parameters": {},
   "start_time": "2022-02-27T23:27:42.484387",
   "version": "2.3.3"
  }
 },
 "nbformat": 4,
 "nbformat_minor": 5
}
