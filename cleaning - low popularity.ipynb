{
 "cells": [
  {
   "cell_type": "code",
   "execution_count": 2,
   "id": "7794c773",
   "metadata": {},
   "outputs": [],
   "source": [
    "import spotipy\n",
    "from spotipy.oauth2 import SpotifyClientCredentials\n",
    "import matplotlib.pyplot as plt\n",
    "\n",
    "# Set up your Spotify API credentials\n",
    "client_id = \"c5b0c19d4b9e43b9ab685547e64c45f9\"\n",
    "client_secret = \"c2a2bdabc52d4fedabc776e98a65a9da\"\n",
    "\n",
    "# Set up Spotipy client\n",
    "client_credentials_manager = SpotifyClientCredentials(client_id=client_id, client_secret=client_secret)\n",
    "spotify = spotipy.Spotify(client_credentials_manager=client_credentials_manager)"
   ]
  },
  {
   "cell_type": "code",
   "execution_count": 3,
   "id": "09187cee",
   "metadata": {},
   "outputs": [],
   "source": [
    "# Read artist names from a text file\n",
    "with open('foreign_new.txt', 'r', encoding='utf-8') as file:\n",
    "    artist_names = file.read().splitlines()"
   ]
  },
  {
   "cell_type": "code",
   "execution_count": 4,
   "id": "2cf240bc",
   "metadata": {},
   "outputs": [
    {
     "data": {
      "text/plain": [
       "27678"
      ]
     },
     "execution_count": 4,
     "metadata": {},
     "output_type": "execute_result"
    }
   ],
   "source": [
    "len(artist_names)"
   ]
  },
  {
   "cell_type": "code",
   "execution_count": 1,
   "id": "9381e2ca",
   "metadata": {},
   "outputs": [
    {
     "ename": "NameError",
     "evalue": "name 'artist_names' is not defined",
     "output_type": "error",
     "traceback": [
      "\u001b[1;31m---------------------------------------------------------------------------\u001b[0m",
      "\u001b[1;31mNameError\u001b[0m                                 Traceback (most recent call last)",
      "\u001b[1;32m~\\AppData\\Local\\Temp\\3\\ipykernel_19964\\844052959.py\u001b[0m in \u001b[0;36m<module>\u001b[1;34m\u001b[0m\n\u001b[0;32m      3\u001b[0m \u001b[1;33m\u001b[0m\u001b[0m\n\u001b[0;32m      4\u001b[0m \u001b[1;33m\u001b[0m\u001b[0m\n\u001b[1;32m----> 5\u001b[1;33m \u001b[1;32mfor\u001b[0m \u001b[0martist_name\u001b[0m \u001b[1;32min\u001b[0m \u001b[0martist_names\u001b[0m\u001b[1;33m:\u001b[0m\u001b[1;33m\u001b[0m\u001b[1;33m\u001b[0m\u001b[0m\n\u001b[0m\u001b[0;32m      6\u001b[0m     \u001b[0mprint\u001b[0m\u001b[1;33m(\u001b[0m\u001b[0martist_names\u001b[0m\u001b[1;33m.\u001b[0m\u001b[0mindex\u001b[0m\u001b[1;33m(\u001b[0m\u001b[0martist_name\u001b[0m\u001b[1;33m)\u001b[0m\u001b[1;33m)\u001b[0m\u001b[1;33m\u001b[0m\u001b[1;33m\u001b[0m\u001b[0m\n\u001b[0;32m      7\u001b[0m     \u001b[0mconnected\u001b[0m \u001b[1;33m=\u001b[0m \u001b[1;32mFalse\u001b[0m\u001b[1;33m\u001b[0m\u001b[1;33m\u001b[0m\u001b[0m\n",
      "\u001b[1;31mNameError\u001b[0m: name 'artist_names' is not defined"
     ]
    }
   ],
   "source": [
    "for artist_name in artist_names:\n",
    "    print(artist_names.index(artist_name))  # to check at which index an error happens\n",
    "    try:\n",
    "        # Search for the artist on Spotify\n",
    "        results = spotify.search(q=artist_name, type=\"artist\", limit=1)\n",
    "        if popularity < 50:\n",
    "            print(f\"Artist '{artist_name}' has low popularity.\")\n",
    "            artist_names.remove(artist_name)\n",
    "        elif len(results[\"artists\"][\"items\"]) <= 0:\n",
    "            print(f\"Artist '{artist_name}' not found on Spotify.\")\n",
    "            artist_names.remove(artist_name)\n",
    "        else:\n",
    "            artist = results[\"artists\"][\"items\"][0]\n",
    "            popularity = artist[\"popularity\"]\n",
    "            popularity_scores.append(popularity)\n",
    "\n",
    "    except Exception as e:\n",
    "        print(f\"Connection error occurred for artist '{artist_name}\")\n",
    "        connection_errors.append(artist_name)\n",
    "        artist_names.remove(artist_name)\n",
    "\n",
    "    with open('popularity_scores.txt', 'w', encoding='utf-8') as file:\n",
    "        file.write(\"\\n\".join(str(score) for score in popularity_scores))\n",
    "\n",
    "    with open('connection_errors.txt', 'w', encoding='utf-8') as file:\n",
    "        file.write(\"\\n\".join(connection_errors))\n",
    "\n",
    "    with open('artist_names.txt', 'w', encoding='utf-8') as file:\n",
    "        file.write(\"\\n\".join(artist_names))\n",
    "\n",
    "    with open('foreign_new.txt', 'w', encoding='utf-8') as file:\n",
    "        file.write(\"\\n\".join(artist_names))\n",
    "\n",
    "    clear_output(wait=True)"
   ]
  },
  {
   "cell_type": "code",
   "execution_count": 6,
   "id": "51ee83dc",
   "metadata": {},
   "outputs": [
    {
     "data": {
      "text/plain": [
       "18963"
      ]
     },
     "execution_count": 6,
     "metadata": {},
     "output_type": "execute_result"
    }
   ],
   "source": [
    "len(artist_names)"
   ]
  },
  {
   "cell_type": "code",
   "execution_count": null,
   "id": "d366516f",
   "metadata": {},
   "outputs": [],
   "source": [
    "# Create a distribution graph of artist popularity\n",
    "plt.hist(popularity_scores, bins=20, edgecolor=\"black\")\n",
    "plt.xlabel(\"Popularity\")\n",
    "plt.ylabel(\"Frequency\")\n",
    "plt.title(\"Distribution of Artist Popularity on Spotify\")\n",
    "plt.show()"
   ]
  }
 ],
 "metadata": {
  "kernelspec": {
   "display_name": "Python 3 (ipykernel)",
   "language": "python",
   "name": "python3"
  },
  "language_info": {
   "codemirror_mode": {
    "name": "ipython",
    "version": 3
   },
   "file_extension": ".py",
   "mimetype": "text/x-python",
   "name": "python",
   "nbconvert_exporter": "python",
   "pygments_lexer": "ipython3",
   "version": "3.9.13"
  }
 },
 "nbformat": 4,
 "nbformat_minor": 5
}
