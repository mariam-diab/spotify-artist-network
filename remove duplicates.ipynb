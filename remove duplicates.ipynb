{
 "cells": [
  {
   "cell_type": "code",
   "execution_count": 16,
   "id": "5c55c989",
   "metadata": {
    "pycharm": {
     "is_executing": true
    }
   },
   "outputs": [
    {
     "name": "stdout",
     "output_type": "stream",
     "text": [
      "7151\n",
      "4530\n"
     ]
    }
   ],
   "source": [
    "with open('artists.txt', 'r', encoding='utf-8') as file:\n",
    "    names = file.read().splitlines()\n",
    "\n",
    "print(len(names))\n",
    "\n",
    "names = list(set(names))\n",
    "print(len(names))"
   ]
  },
  {
   "cell_type": "code",
   "execution_count": 17,
   "id": "121b2348",
   "metadata": {},
   "outputs": [
    {
     "name": "stdout",
     "output_type": "stream",
     "text": [
      "Duplicate names removed.\n"
     ]
    }
   ],
   "source": [
    "with open('artists.txt', 'w', encoding='utf-8') as file:\n",
    "    file.write('\\n'.join(names))\n",
    "\n",
    "print('Duplicate names removed.')"
   ]
  }
 ],
 "metadata": {
  "kernelspec": {
   "display_name": "Python 3 (ipykernel)",
   "language": "python",
   "name": "python3"
  },
  "language_info": {
   "codemirror_mode": {
    "name": "ipython",
    "version": 3
   },
   "file_extension": ".py",
   "mimetype": "text/x-python",
   "name": "python",
   "nbconvert_exporter": "python",
   "pygments_lexer": "ipython3",
   "version": "3.11.1"
  }
 },
 "nbformat": 4,
 "nbformat_minor": 5
}
