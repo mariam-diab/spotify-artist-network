{
 "cells": [
  {
   "cell_type": "code",
   "execution_count": 1,
   "id": "a07e057f",
   "metadata": {},
   "outputs": [],
   "source": [
    "import requests\n",
    "from bs4 import BeautifulSoup"
   ]
  },
  {
   "cell_type": "code",
   "execution_count": 2,
   "id": "9fb24909",
   "metadata": {},
   "outputs": [],
   "source": [
    "nationalities = [\"Algerian\", \"Bahraini\", \"Comorian\", \"Djiboutian\", \"Egyptian\", \"Iraqi\", \"Jordanian\", \"Kuwaiti\", \"Lebanese\",\n",
    "               \"Libyan\", \"Mauritanian\", \"Moroccan\", \"Omani\", \"Palestinian\", \"Qatari\", \"Saudi Arabian\", \"Somali\", \"Sudanese\",\n",
    "               \"Syrian\", \"Tunisian\", \"Emirati\", \"Yemeni\"]\n",
    "total_artists = 0"
   ]
  },
  {
   "cell_type": "code",
   "execution_count": 3,
   "id": "fbd353b1",
   "metadata": {},
   "outputs": [
    {
     "name": "stdout",
     "output_type": "stream",
     "text": [
      "495\n",
      "52\n",
      "7\n",
      "11\n",
      "994\n",
      "238\n",
      "124\n",
      "105\n",
      "888\n",
      "33\n",
      "31\n",
      "513\n",
      "14\n",
      "222\n",
      "18\n",
      "35\n",
      "88\n",
      "108\n",
      "291\n",
      "513\n",
      "43\n",
      "65\n",
      "4888\n"
     ]
    }
   ],
   "source": [
    "for nationality in nationalities:\n",
    "    base_url = f'https://www.last.fm/tag/{nationality}/artists?page='\n",
    "    artist_names = []\n",
    "\n",
    "    response = requests.get(base_url + '1')\n",
    "    soup = BeautifulSoup(response.content, 'html.parser')\n",
    "\n",
    "    pagination_element = soup.find('ul', class_='pagination-list')\n",
    "    if pagination_element is None:\n",
    "        total_pages = 1\n",
    "    else:\n",
    "        total_pages = int(pagination_element.find_all('li')[-2].get_text())\n",
    "\n",
    "    for page in range(1, total_pages + 1):\n",
    "        url = base_url + str(page)\n",
    "\n",
    "        response = requests.get(url)\n",
    "        soup = BeautifulSoup(response.content, 'html.parser')\n",
    "\n",
    "        artist_elements = soup.find_all('a', class_='link-block-target')\n",
    "        artist_names.extend([element.get_text() for element in artist_elements])\n",
    "\n",
    "    print(len(artist_names))\n",
    "    total_artists += len(artist_names)\n",
    "    \n",
    "print(total_artists)"
   ]
  },
  {
   "cell_type": "code",
   "execution_count": 4,
   "id": "c715187b",
   "metadata": {},
   "outputs": [
    {
     "name": "stdout",
     "output_type": "stream",
     "text": [
      "Total artists: 4888\n"
     ]
    }
   ],
   "source": [
    "with open('artists.txt', 'a', encoding='utf-8') as file:\n",
    "    for name in artist_names:\n",
    "        file.write(name + '\\n')\n",
    "\n",
    "print(\"Total artists:\", total_artists)"
   ]
  }
 ],
 "metadata": {
  "kernelspec": {
   "display_name": "Python 3 (ipykernel)",
   "language": "python",
   "name": "python3"
  },
  "language_info": {
   "codemirror_mode": {
    "name": "ipython",
    "version": 3
   },
   "file_extension": ".py",
   "mimetype": "text/x-python",
   "name": "python",
   "nbconvert_exporter": "python",
   "pygments_lexer": "ipython3",
   "version": "3.11.1"
  }
 },
 "nbformat": 4,
 "nbformat_minor": 5
}
