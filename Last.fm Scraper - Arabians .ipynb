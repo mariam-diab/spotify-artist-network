{
 "cells": [
  {
   "cell_type": "markdown",
   "id": "dd731443",
   "metadata": {},
   "source": [
    "# Scraping Last.fm for Arabian Artist Names by Nationality"
   ]
  },
  {
   "cell_type": "code",
   "execution_count": 1,
   "id": "a07e057f",
   "metadata": {},
   "outputs": [],
   "source": [
    "import requests\n",
    "from bs4 import BeautifulSoup"
   ]
  },
  {
   "cell_type": "code",
   "execution_count": 2,
   "id": "9fb24909",
   "metadata": {},
   "outputs": [],
   "source": [
    "# List of nationalities\n",
    "nationalities = [\"Algerian\", \"Bahraini\", \"Comorian\", \"Djiboutian\", \"Egyptian\", \"Iraqi\", \"Jordanian\", \"Kuwaiti\", \"Lebanese\",\n",
    "               \"Libyan\", \"Mauritanian\", \"Moroccan\", \"Omani\", \"Palestinian\", \"Qatari\", \"Saudi Arabian\", \"Somali\", \"Sudanese\",\n",
    "               \"Syrian\", \"Tunisian\", \"Emirati\", \"Yemeni\"]\n",
    "total_artists = 0\n",
    "all_artist_names = []"
   ]
  },
  {
   "cell_type": "code",
   "execution_count": 3,
   "id": "fbd353b1",
   "metadata": {},
   "outputs": [
    {
     "name": "stdout",
     "output_type": "stream",
     "text": [
      "There are 495 Algerian artists found.\n",
      "There are 52 Bahraini artists found.\n",
      "There are 7 Comorian artists found.\n",
      "There are 11 Djiboutian artists found.\n",
      "There are 994 Egyptian artists found.\n",
      "There are 238 Iraqi artists found.\n",
      "There are 124 Jordanian artists found.\n",
      "There are 105 Kuwaiti artists found.\n",
      "There are 888 Lebanese artists found.\n",
      "There are 33 Libyan artists found.\n",
      "There are 31 Mauritanian artists found.\n",
      "There are 513 Moroccan artists found.\n",
      "There are 14 Omani artists found.\n",
      "There are 222 Palestinian artists found.\n",
      "There are 18 Qatari artists found.\n",
      "There are 35 Saudi Arabian artists found.\n",
      "There are 88 Somali artists found.\n",
      "There are 108 Sudanese artists found.\n",
      "There are 291 Syrian artists found.\n",
      "There are 513 Tunisian artists found.\n",
      "There are 43 Emirati artists found.\n",
      "There are 65 Yemeni artists found.\n",
      "Total artists: 4888\n"
     ]
    }
   ],
   "source": [
    "# Iterate through each nationality\n",
    "for nationality in nationalities:\n",
    "    \n",
    "    # Base URL of the Last.fm artists page\n",
    "    base_url = f'https://www.last.fm/tag/{nationality}/artists?page='\n",
    "    artist_names = []\n",
    "\n",
    "    # Send a request to the first page of the nationality's artists\n",
    "    response = requests.get(base_url + '1')\n",
    "    soup = BeautifulSoup(response.content, 'html.parser')\n",
    "\n",
    "    # Find the pagination element to determine the total number of pages\n",
    "    pagination_element = soup.find('ul', class_='pagination-list')\n",
    "    if pagination_element is None:\n",
    "        total_pages = 1\n",
    "    else:\n",
    "        total_pages = int(pagination_element.find_all('li')[-2].get_text())\n",
    "\n",
    "    # Iterate through each page and retrieve artist names\n",
    "    for page in range(1, total_pages + 1):\n",
    "        url = base_url + str(page)\n",
    "\n",
    "        response = requests.get(url)\n",
    "        soup = BeautifulSoup(response.content, 'html.parser')\n",
    "\n",
    "        # Find all artist elements on the page\n",
    "        artist_elements = soup.find_all('a', class_='link-block-target')\n",
    "        artist_names.extend([element.get_text() for element in artist_elements])\n",
    "        \n",
    "    all_artist_names.extend(artist_names)\n",
    "    print(f\"There are {len(artist_names)} {nationality} artists found.\")\n",
    "    total_artists += len(artist_names)\n",
    "    \n",
    "print(\"Total artists:\", total_artists)"
   ]
  },
  {
   "cell_type": "code",
   "execution_count": 4,
   "id": "c715187b",
   "metadata": {},
   "outputs": [],
   "source": [
    "# Write all artists' names to the file\n",
    "with open('artists.txt', 'w', encoding='utf-8') as file:\n",
    "    for name in all_artist_names:\n",
    "        file.write(name + '\\n')"
   ]
  }
 ],
 "metadata": {
  "kernelspec": {
   "display_name": "Python 3 (ipykernel)",
   "language": "python",
   "name": "python3"
  },
  "language_info": {
   "codemirror_mode": {
    "name": "ipython",
    "version": 3
   },
   "file_extension": ".py",
   "mimetype": "text/x-python",
   "name": "python",
   "nbconvert_exporter": "python",
   "pygments_lexer": "ipython3",
   "version": "3.11.1"
  }
 },
 "nbformat": 4,
 "nbformat_minor": 5
}
