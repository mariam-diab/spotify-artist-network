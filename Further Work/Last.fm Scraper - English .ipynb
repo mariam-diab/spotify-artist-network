{
 "cells": [
  {
   "cell_type": "markdown",
   "id": "dd731443",
   "metadata": {},
   "source": [
    "# Scraping Last.fm for Artist Names by Nationality"
   ]
  },
  {
   "cell_type": "code",
   "execution_count": 1,
   "id": "a07e057f",
   "metadata": {},
   "outputs": [],
   "source": [
    "import requests\n",
    "from bs4 import BeautifulSoup"
   ]
  },
  {
   "cell_type": "code",
   "execution_count": 2,
   "id": "9fb24909",
   "metadata": {},
   "outputs": [],
   "source": [
    "# List of nationalities\n",
    "nationalities = [\"American\", \"British\", \"Canadian\", \"Australian\"]\n",
    "\n",
    "total_artists = 0\n",
    "all_artist_names = []"
   ]
  },
  {
   "cell_type": "code",
   "execution_count": 3,
   "id": "fbd353b1",
   "metadata": {},
   "outputs": [
    {
     "name": "stdout",
     "output_type": "stream",
     "text": [
      "There are 10954 American artists found.\n",
      "There are 10954 British artists found.\n",
      "There are 10954 Canadian artists found.\n",
      "There are 10954 Australian artists found.\n",
      "Total artists: 43816\n"
     ]
    }
   ],
   "source": [
    "# Iterate through each nationality\n",
    "for nationality in nationalities:\n",
    "    \n",
    "    # Base URL of the Last.fm artists page\n",
    "    base_url = f'https://www.last.fm/tag/{nationality}/artists?page='\n",
    "    artist_names = []\n",
    "\n",
    "    # Send a request to the first page of the nationality's artists\n",
    "    response = requests.get(base_url + '1')\n",
    "    soup = BeautifulSoup(response.content, 'html.parser')\n",
    "\n",
    "    # Find the pagination element to determine the total number of pages\n",
    "    pagination_element = soup.find('ul', class_='pagination-list')\n",
    "    if pagination_element is None:\n",
    "        total_pages = 1\n",
    "    else:\n",
    "        total_pages = int(pagination_element.find_all('li')[-2].get_text())\n",
    "\n",
    "    # Iterate through each page and retrieve artist names\n",
    "    for page in range(1, total_pages + 1):\n",
    "        url = base_url + str(page)\n",
    "\n",
    "        response = requests.get(url)\n",
    "        soup = BeautifulSoup(response.content, 'html.parser')\n",
    "\n",
    "        # Find all artist elements on the page\n",
    "        artist_elements = soup.find_all('a', class_='link-block-target')\n",
    "        artist_names.extend([element.get_text() for element in artist_elements])\n",
    "        \n",
    "    all_artist_names.extend(artist_names)\n",
    "    print(f\"There are {len(artist_names)} {nationality} artists found.\")\n",
    "    total_artists += len(artist_names)\n",
    "    \n",
    "print(\"Total artists:\", total_artists)"
   ]
  },
  {
   "cell_type": "code",
   "execution_count": 4,
   "id": "c715187b",
   "metadata": {},
   "outputs": [],
   "source": [
    "with open('foreign.txt', 'w', encoding='utf-8') as file:\n",
    "    for name in all_artist_names:\n",
    "        file.write(name + '\\n')"
   ]
  },
  {
   "cell_type": "code",
   "execution_count": null,
   "id": "6d9e8c91",
   "metadata": {},
   "outputs": [],
   "source": []
  }
 ],
 "metadata": {
  "kernelspec": {
   "display_name": "Python 3 (ipykernel)",
   "language": "python",
   "name": "python3"
  },
  "language_info": {
   "codemirror_mode": {
    "name": "ipython",
    "version": 3
   },
   "file_extension": ".py",
   "mimetype": "text/x-python",
   "name": "python",
   "nbconvert_exporter": "python",
   "pygments_lexer": "ipython3",
   "version": "3.9.13"
  }
 },
 "nbformat": 4,
 "nbformat_minor": 5
}
