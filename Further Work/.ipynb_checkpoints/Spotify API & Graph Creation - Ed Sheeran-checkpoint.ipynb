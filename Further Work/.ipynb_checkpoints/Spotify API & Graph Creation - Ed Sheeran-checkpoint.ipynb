{
 "cells": [
  {
   "cell_type": "markdown",
   "id": "9e8f63c1",
   "metadata": {},
   "source": [
    "# Spotify API Access, Data Retrieval, and Graph Creation"
   ]
  },
  {
   "cell_type": "markdown",
   "id": "42a06f61",
   "metadata": {
    "papermill": {
     "duration": 0.02313,
     "end_time": "2022-02-27T23:27:52.717128",
     "exception": false,
     "start_time": "2022-02-27T23:27:52.693998",
     "status": "completed"
    },
    "tags": []
   },
   "source": [
    "## Load the libraries"
   ]
  },
  {
   "cell_type": "code",
   "execution_count": 1,
   "id": "e31fdf75",
   "metadata": {
    "_cell_guid": "b1076dfc-b9ad-4769-8c92-a6c4dae69d19",
    "_uuid": "8f2839f25d086af736a60e9eeb907d3b93b6e0e5",
    "execution": {
     "iopub.execute_input": "2022-02-27T23:27:52.771916Z",
     "iopub.status.busy": "2022-02-27T23:27:52.766936Z",
     "iopub.status.idle": "2022-02-27T23:27:53.194181Z",
     "shell.execute_reply": "2022-02-27T23:27:53.193349Z",
     "shell.execute_reply.started": "2022-01-03T23:37:19.38535Z"
    },
    "papermill": {
     "duration": 0.454908,
     "end_time": "2022-02-27T23:27:53.194348",
     "exception": false,
     "start_time": "2022-02-27T23:27:52.739440",
     "status": "completed"
    },
    "tags": []
   },
   "outputs": [],
   "source": [
    "import numpy as np\n",
    "import networkx as nx\n",
    "import matplotlib.pyplot as plt\n",
    "from IPython.display import clear_output\n",
    "import spotipy\n",
    "from spotipy.oauth2 import SpotifyClientCredentials\n",
    "import pickle"
   ]
  },
  {
   "cell_type": "markdown",
   "id": "2a51ea69",
   "metadata": {
    "papermill": {
     "duration": 0.021356,
     "end_time": "2022-02-27T23:28:07.007605",
     "exception": false,
     "start_time": "2022-02-27T23:28:06.986249",
     "status": "completed"
    },
    "tags": []
   },
   "source": [
    "## Access to Spotify API\n",
    "Set up Spotify API access by providing client ID and client secret"
   ]
  },
  {
   "cell_type": "code",
   "execution_count": 2,
   "id": "8ecc604e",
   "metadata": {
    "execution": {
     "iopub.execute_input": "2022-02-27T23:28:07.053760Z",
     "iopub.status.busy": "2022-02-27T23:28:07.053089Z",
     "iopub.status.idle": "2022-02-27T23:28:07.057640Z",
     "shell.execute_reply": "2022-02-27T23:28:07.058220Z",
     "shell.execute_reply.started": "2022-01-03T23:37:29.080346Z"
    },
    "papermill": {
     "duration": 0.029153,
     "end_time": "2022-02-27T23:28:07.058382",
     "exception": false,
     "start_time": "2022-02-27T23:28:07.029229",
     "status": "completed"
    },
    "tags": []
   },
   "outputs": [],
   "source": [
    "client_id = \"8c384979ed264980b32fb820865a3a21\"\n",
    "client_secret = \"e2f33e036c0347eba2a75278e2501832\"\n",
    "\n",
    "credmanager = SpotifyClientCredentials(client_id=client_id, client_secret=client_secret)\n",
    "sp = spotipy.Spotify(client_credentials_manager=credmanager)"
   ]
  },
  {
   "cell_type": "markdown",
   "id": "3750bca0",
   "metadata": {},
   "source": [
    "## Define our main artist\n",
    "In this part, we define the main artist as 'Ed Sheeran'. The main artist serves as a starting point for building the graph representation. The graph will be constructed by adding related artists and establishing connections between them and the main artist."
   ]
  },
  {
   "cell_type": "code",
   "execution_count": 3,
   "id": "28f03525",
   "metadata": {},
   "outputs": [],
   "source": [
    "main_artist = 'Ed Sheeran'"
   ]
  },
  {
   "cell_type": "markdown",
   "id": "863bc57a",
   "metadata": {
    "papermill": {
     "duration": 0.021296,
     "end_time": "2022-02-27T23:28:07.101418",
     "exception": false,
     "start_time": "2022-02-27T23:28:07.080122",
     "status": "completed"
    },
    "tags": []
   },
   "source": [
    "## Demonstrating some features of Spotify API\n",
    "\n",
    "This part demonstrates how to use the Spotify API to search for an artist, retrieve their information, and find related artists. The artist information, such as their name, ID, popularity, and genre, is extracted from the search results."
   ]
  },
  {
   "cell_type": "code",
   "execution_count": 4,
   "id": "d4d00bf7",
   "metadata": {
    "execution": {
     "iopub.execute_input": "2022-02-27T23:28:07.148053Z",
     "iopub.status.busy": "2022-02-27T23:28:07.147410Z",
     "iopub.status.idle": "2022-02-27T23:28:07.686032Z",
     "shell.execute_reply": "2022-02-27T23:28:07.686602Z",
     "shell.execute_reply.started": "2022-01-03T23:37:29.087149Z"
    },
    "papermill": {
     "duration": 0.563544,
     "end_time": "2022-02-27T23:28:07.686770",
     "exception": false,
     "start_time": "2022-02-27T23:28:07.123226",
     "status": "completed"
    },
    "tags": []
   },
   "outputs": [
    {
     "name": "stdout",
     "output_type": "stream",
     "text": [
      "{'external_urls': {'spotify': 'https://open.spotify.com/artist/6eUKZXaKkcviH0Ku9w2n3V'}, 'followers': {'href': None, 'total': 112147503}, 'genres': ['pop', 'uk pop'], 'href': 'https://api.spotify.com/v1/artists/6eUKZXaKkcviH0Ku9w2n3V', 'id': '6eUKZXaKkcviH0Ku9w2n3V', 'images': [{'height': 640, 'url': 'https://i.scdn.co/image/ab6761610000e5eb9e690225ad4445530612ccc9', 'width': 640}, {'height': 320, 'url': 'https://i.scdn.co/image/ab676161000051749e690225ad4445530612ccc9', 'width': 320}, {'height': 160, 'url': 'https://i.scdn.co/image/ab6761610000f1789e690225ad4445530612ccc9', 'width': 160}], 'name': 'Ed Sheeran', 'popularity': 92, 'type': 'artist', 'uri': 'spotify:artist:6eUKZXaKkcviH0Ku9w2n3V'}\n"
     ]
    }
   ],
   "source": [
    "artist_search = sp.search(main_artist, type='artist')['artists']['items'][0]\n",
    "print(artist_search)"
   ]
  },
  {
   "cell_type": "markdown",
   "id": "44edb0a7",
   "metadata": {
    "papermill": {
     "duration": 0.022377,
     "end_time": "2022-02-27T23:28:07.731480",
     "exception": false,
     "start_time": "2022-02-27T23:28:07.709103",
     "status": "completed"
    },
    "tags": []
   },
   "source": [
    "### Searching Artist\n",
    "\n",
    "This section performs a search for the artist using the sp.search function and retrieves the search results. It then extracts important features of the artist, such as their name, ID, popularity, and genre. The extracted features are stored in the artist_features dictionary."
   ]
  },
  {
   "cell_type": "code",
   "execution_count": 5,
   "id": "3d2154bb",
   "metadata": {
    "execution": {
     "iopub.execute_input": "2022-02-27T23:28:07.780050Z",
     "iopub.status.busy": "2022-02-27T23:28:07.778995Z",
     "iopub.status.idle": "2022-02-27T23:28:07.784741Z",
     "shell.execute_reply": "2022-02-27T23:28:07.785213Z",
     "shell.execute_reply.started": "2022-01-03T23:37:29.404198Z"
    },
    "papermill": {
     "duration": 0.031638,
     "end_time": "2022-02-27T23:28:07.785385",
     "exception": false,
     "start_time": "2022-02-27T23:28:07.753747",
     "status": "completed"
    },
    "tags": []
   },
   "outputs": [],
   "source": [
    "def extract_artist_features(spotify_search_result):\n",
    "    result = {\n",
    "        'artist_name': spotify_search_result.get('name', 'artist_name_not_available'),\n",
    "        'artist_id': spotify_search_result.get('id', 'artist_id_not_available'),\n",
    "        'artist_popularity': spotify_search_result.get('popularity', 0),\n",
    "        'artist_first_genre': (spotify_search_result.get('genres', ['genre_not_available']) + ['genre_not_available'])[0],\n",
    "    }\n",
    "    return result"
   ]
  },
  {
   "cell_type": "code",
   "execution_count": 6,
   "id": "9b9ab438",
   "metadata": {
    "execution": {
     "iopub.execute_input": "2022-02-27T23:28:07.833672Z",
     "iopub.status.busy": "2022-02-27T23:28:07.832656Z",
     "iopub.status.idle": "2022-02-27T23:28:07.838274Z",
     "shell.execute_reply": "2022-02-27T23:28:07.838805Z",
     "shell.execute_reply.started": "2022-01-03T23:37:29.413561Z"
    },
    "papermill": {
     "duration": 0.031496,
     "end_time": "2022-02-27T23:28:07.838995",
     "exception": false,
     "start_time": "2022-02-27T23:28:07.807499",
     "status": "completed"
    },
    "tags": []
   },
   "outputs": [
    {
     "name": "stdout",
     "output_type": "stream",
     "text": [
      "{'artist_name': 'Ed Sheeran', 'artist_id': '6eUKZXaKkcviH0Ku9w2n3V', 'artist_popularity': 92, 'artist_first_genre': 'pop'}\n"
     ]
    }
   ],
   "source": [
    "artist_features = extract_artist_features(artist_search)\n",
    "print(artist_features)"
   ]
  },
  {
   "cell_type": "markdown",
   "id": "755c2acf",
   "metadata": {
    "papermill": {
     "duration": 0.023291,
     "end_time": "2022-02-27T23:28:07.930097",
     "exception": false,
     "start_time": "2022-02-27T23:28:07.906806",
     "status": "completed"
    },
    "tags": []
   },
   "source": [
    "### Retrieving related artists\n",
    "\n",
    "It retrieves the related artists of the artist using the sp.artist_related_artists function. It prints the number of related artists and displays some information about the first 20 related artists."
   ]
  },
  {
   "cell_type": "code",
   "execution_count": 7,
   "id": "f7470b34",
   "metadata": {
    "execution": {
     "iopub.execute_input": "2022-02-27T23:28:07.979386Z",
     "iopub.status.busy": "2022-02-27T23:28:07.978720Z",
     "iopub.status.idle": "2022-02-27T23:28:08.020631Z",
     "shell.execute_reply": "2022-02-27T23:28:08.019986Z",
     "shell.execute_reply.started": "2022-01-03T23:37:29.42673Z"
    },
    "papermill": {
     "duration": 0.067808,
     "end_time": "2022-02-27T23:28:08.020771",
     "exception": false,
     "start_time": "2022-02-27T23:28:07.952963",
     "status": "completed"
    },
    "tags": []
   },
   "outputs": [
    {
     "name": "stdout",
     "output_type": "stream",
     "text": [
      "Ed Sheeran has 20 related artists. The first one is James Arthur \n",
      "\n",
      "James Arthur\n",
      "Shawn Mendes\n",
      "James TW\n",
      "Sam Smith\n",
      "Charlie Puth\n",
      "Hailee Steinfeld\n",
      "Calum Scott\n",
      "Liam Payne\n",
      "Niall Horan\n",
      "James Bay\n",
      "Lewis Capaldi\n",
      "Lukas Graham\n",
      "Nick Jonas\n",
      "Alessia Cara\n",
      "The Vamps\n",
      "DNCE\n",
      "Meghan Trainor\n",
      "Cheat Codes\n",
      "Camila Cabello\n",
      "The Script\n"
     ]
    }
   ],
   "source": [
    "artist_related_artists = sp.artist_related_artists(artist_features['artist_id'])['artists']\n",
    "\n",
    "print('Ed Sheeran has', len(artist_related_artists), 'related artists. The first one is', artist_related_artists[0]['name'], '\\n')\n",
    "\n",
    "for i in range(20):\n",
    "    print(artist_related_artists[i]['name'])"
   ]
  },
  {
   "cell_type": "markdown",
   "id": "1b35d7bb",
   "metadata": {
    "papermill": {
     "duration": 0.023007,
     "end_time": "2022-02-27T23:28:08.066944",
     "exception": false,
     "start_time": "2022-02-27T23:28:08.043937",
     "status": "completed"
    },
    "tags": []
   },
   "source": [
    "Every artist on Spotify has only 20 related artists."
   ]
  },
  {
   "cell_type": "markdown",
   "id": "97ee8bd3",
   "metadata": {
    "papermill": {
     "duration": 0.02336,
     "end_time": "2022-02-27T23:28:08.161647",
     "exception": false,
     "start_time": "2022-02-27T23:28:08.138287",
     "status": "completed"
    },
    "tags": []
   },
   "source": [
    "## Create a graph\n",
    "\n",
    "This part demonstrates the creation of a graph representation using the NetworkX library. An empty undirected graph, G, is initialized. The main artist is added as a node to the graph using the add_node() function. Connections between the main artist and related artists are established by utilizing the Spotify API to retrieve information about related artists. Each related artist's name is added as a node to the graph using add_node(), and edges are created between the main artist and each related artist using add_edge()."
   ]
  },
  {
   "cell_type": "code",
   "execution_count": 8,
   "id": "73e88754",
   "metadata": {
    "execution": {
     "iopub.execute_input": "2022-02-27T23:28:08.212156Z",
     "iopub.status.busy": "2022-02-27T23:28:08.211501Z",
     "iopub.status.idle": "2022-02-27T23:28:08.214666Z",
     "shell.execute_reply": "2022-02-27T23:28:08.215259Z",
     "shell.execute_reply.started": "2022-01-03T23:37:29.48343Z"
    },
    "papermill": {
     "duration": 0.030008,
     "end_time": "2022-02-27T23:28:08.215435",
     "exception": false,
     "start_time": "2022-02-27T23:28:08.185427",
     "status": "completed"
    },
    "tags": []
   },
   "outputs": [],
   "source": [
    "G = nx.Graph()  \n",
    "G.add_node(main_artist)"
   ]
  },
  {
   "cell_type": "code",
   "execution_count": 9,
   "id": "2f83214e",
   "metadata": {},
   "outputs": [],
   "source": [
    "# Retrieve information about related artists using the Spotify API\n",
    "related_artists = sp.artist_related_artists(artist_features['artist_id'])\n",
    "\n",
    "# Iterate through the related artists and add them as nodes to the graph\n",
    "for related_artist in related_artists['artists']:\n",
    "    related_artist_name = related_artist['name']\n",
    "    G.add_node(related_artist_name)\n",
    "    G.add_edge(main_artist, related_artist_name) # Create an edge between the main artist and each related artist"
   ]
  },
  {
   "cell_type": "markdown",
   "id": "36665ce6",
   "metadata": {
    "papermill": {
     "duration": 0.022995,
     "end_time": "2022-02-27T23:28:08.261787",
     "exception": false,
     "start_time": "2022-02-27T23:28:08.238792",
     "status": "completed"
    },
    "tags": []
   },
   "source": [
    "### Add some initial nodes to the graph\n",
    "\n",
    "In this section, a list of artist names is read from a file. Each artist is searched for using the Spotify API, and their information is added as nodes to the graph. The artist's features, such as name, ID, popularity, and genre, are set as attributes for each node. Additionally, it checks if the new artist is a related artist of any existing node in the graph and creates edges between them if a relationship exists."
   ]
  },
  {
   "cell_type": "code",
   "execution_count": 10,
   "id": "54ff7b6d",
   "metadata": {
    "execution": {
     "iopub.execute_input": "2022-02-27T23:28:08.311253Z",
     "iopub.status.busy": "2022-02-27T23:28:08.310607Z",
     "iopub.status.idle": "2022-02-27T23:28:08.316178Z",
     "shell.execute_reply": "2022-02-27T23:28:08.316689Z",
     "shell.execute_reply.started": "2022-01-03T23:37:29.489698Z"
    },
    "papermill": {
     "duration": 0.031831,
     "end_time": "2022-02-27T23:28:08.316864",
     "exception": false,
     "start_time": "2022-02-27T23:28:08.285033",
     "status": "completed"
    },
    "tags": []
   },
   "outputs": [
    {
     "name": "stdout",
     "output_type": "stream",
     "text": [
      "There are 21246 artists in the initial list.\n"
     ]
    }
   ],
   "source": [
    "with open('foreign.txt', 'r', encoding='utf-8') as file:\n",
    "    artists_name_list = file.read().splitlines()\n",
    "\n",
    "print('There are', len(artists_name_list), 'artists in the initial list.')"
   ]
  },
  {
   "cell_type": "code",
   "execution_count": 12,
   "id": "ae91b697",
   "metadata": {
    "execution": {
     "iopub.execute_input": "2022-02-27T23:28:08.413760Z",
     "iopub.status.busy": "2022-02-27T23:28:08.413112Z",
     "iopub.status.idle": "2022-02-27T23:28:09.103941Z",
     "shell.execute_reply": "2022-02-27T23:28:09.103349Z",
     "shell.execute_reply.started": "2022-01-03T23:37:29.502558Z"
    },
    "papermill": {
     "duration": 0.716962,
     "end_time": "2022-02-27T23:28:09.104107",
     "exception": false,
     "start_time": "2022-02-27T23:28:08.387145",
     "status": "completed"
    },
    "tags": []
   },
   "outputs": [
    {
     "name": "stdout",
     "output_type": "stream",
     "text": [
      "The graph has 31 nodes now.\n",
      "The graph has 31 nodes now.\n",
      "The graph has 31 nodes now.\n",
      "The graph has 31 nodes now.\n",
      "The graph has 31 nodes now.\n",
      "The graph has 31 nodes now.\n",
      "The graph has 31 nodes now.\n",
      "The graph has 31 nodes now.\n",
      "The graph has 31 nodes now.\n",
      "The graph has 31 nodes now.\n",
      "The graph has 31 nodes now.\n",
      "The graph has 31 nodes now.\n",
      "The graph has 31 nodes now.\n",
      "The graph has 31 nodes now.\n",
      "The graph has 31 nodes now.\n",
      "The graph has 31 nodes now.\n",
      "The graph has 31 nodes now.\n",
      "The graph has 31 nodes now.\n",
      "The graph has 31 nodes now.\n",
      "The graph has 31 nodes now.\n",
      "The graph has 31 nodes now.\n",
      "The graph has 31 nodes now.\n",
      "The graph has 31 nodes now.\n",
      "The graph has 31 nodes now.\n",
      "The graph has 31 nodes now.\n",
      "The graph has 31 nodes now.\n",
      "The graph has 31 nodes now.\n",
      "The graph has 31 nodes now.\n",
      "The graph has 31 nodes now.\n",
      "The graph has 31 nodes now.\n",
      "The graph has 31 nodes now.\n",
      "The graph has 31 nodes now.\n",
      "The graph has 31 nodes now.\n",
      "The graph has 31 nodes now.\n",
      "The graph has 31 nodes now.\n",
      "The graph has 31 nodes now.\n",
      "The graph has 31 nodes now.\n",
      "The graph has 31 nodes now.\n",
      "The graph has 31 nodes now.\n",
      "The graph has 31 nodes now.\n",
      "The graph has 31 nodes now.\n",
      "The graph has 31 nodes now.\n",
      "The graph has 31 nodes now.\n",
      "The graph has 31 nodes now.\n",
      "The graph has 31 nodes now.\n",
      "The graph has 31 nodes now.\n",
      "The graph has 31 nodes now.\n",
      "The graph has 31 nodes now.\n",
      "The graph has 31 nodes now.\n",
      "The graph has 31 nodes now.\n",
      "The graph has 31 nodes now.\n",
      "The graph has 31 nodes now.\n",
      "The graph has 31 nodes now.\n",
      "The graph has 31 nodes now.\n",
      "The graph has 31 nodes now.\n",
      "The graph has 31 nodes now.\n",
      "The graph has 31 nodes now.\n",
      "The graph has 31 nodes now.\n",
      "The graph has 31 nodes now.\n",
      "The graph has 31 nodes now.\n",
      "The graph has 31 nodes now.\n",
      "The graph has 31 nodes now.\n",
      "The graph has 31 nodes now.\n",
      "The graph has 31 nodes now.\n",
      "The graph has 31 nodes now.\n",
      "The graph has 31 nodes now.\n",
      "The graph has 31 nodes now.\n",
      "The graph has 31 nodes now.\n",
      "The graph has 31 nodes now.\n",
      "The graph has 31 nodes now.\n",
      "The graph has 31 nodes now.\n",
      "The graph has 31 nodes now.\n",
      "The graph has 31 nodes now.\n",
      "The graph has 31 nodes now.\n",
      "The graph has 31 nodes now.\n",
      "The graph has 31 nodes now.\n",
      "The graph has 31 nodes now.\n",
      "The graph has 31 nodes now.\n",
      "The graph has 31 nodes now.\n",
      "The graph has 31 nodes now.\n",
      "The graph has 31 nodes now.\n",
      "The graph has 31 nodes now.\n",
      "The graph has 31 nodes now.\n",
      "The graph has 31 nodes now.\n",
      "The graph has 31 nodes now.\n",
      "The graph has 31 nodes now.\n",
      "The graph has 31 nodes now.\n",
      "The graph has 31 nodes now.\n",
      "The graph has 31 nodes now.\n",
      "The graph has 31 nodes now.\n",
      "The graph has 31 nodes now.\n",
      "The graph has 31 nodes now.\n",
      "The graph has 31 nodes now.\n",
      "The graph has 31 nodes now.\n",
      "The graph has 31 nodes now.\n",
      "The graph has 31 nodes now.\n",
      "The graph has 31 nodes now.\n",
      "The graph has 31 nodes now.\n",
      "The graph has 31 nodes now.\n",
      "The graph has 31 nodes now.\n",
      "The graph has 31 nodes now.\n",
      "The graph has 31 nodes now.\n",
      "The graph has 31 nodes now.\n",
      "The graph has 31 nodes now.\n",
      "The graph has 31 nodes now.\n",
      "The graph has 31 nodes now.\n",
      "The graph has 31 nodes now.\n",
      "The graph has 31 nodes now.\n",
      "The graph has 31 nodes now.\n",
      "The graph has 31 nodes now.\n",
      "The graph has 31 nodes now.\n",
      "The graph has 31 nodes now.\n",
      "The graph has 31 nodes now.\n",
      "The graph has 31 nodes now.\n",
      "The graph has 31 nodes now.\n",
      "The graph has 31 nodes now.\n",
      "The graph has 31 nodes now.\n",
      "The graph has 31 nodes now.\n",
      "The graph has 31 nodes now.\n",
      "The graph has 31 nodes now.\n",
      "The graph has 31 nodes now.\n",
      "The graph has 31 nodes now.\n",
      "The graph has 31 nodes now.\n",
      "The graph has 31 nodes now.\n",
      "The graph has 31 nodes now.\n",
      "The graph has 31 nodes now.\n",
      "The graph has 31 nodes now.\n",
      "The graph has 31 nodes now.\n",
      "The graph has 31 nodes now.\n",
      "The graph has 31 nodes now.\n",
      "The graph has 31 nodes now.\n",
      "The graph has 31 nodes now.\n",
      "The graph has 31 nodes now.\n",
      "The graph has 31 nodes now.\n",
      "The graph has 31 nodes now.\n",
      "The graph has 31 nodes now.\n",
      "The graph has 31 nodes now.\n",
      "The graph has 31 nodes now.\n",
      "The graph has 31 nodes now.\n",
      "The graph has 31 nodes now.\n",
      "The graph has 31 nodes now.\n",
      "The graph has 31 nodes now.\n",
      "The graph has 31 nodes now.\n",
      "The graph has 31 nodes now.\n",
      "The graph has 31 nodes now.\n",
      "The graph has 31 nodes now.\n",
      "The graph has 31 nodes now.\n",
      "The graph has 31 nodes now.\n",
      "The graph has 31 nodes now.\n",
      "The graph has 31 nodes now.\n",
      "The graph has 31 nodes now.\n",
      "The graph has 31 nodes now.\n",
      "The graph has 31 nodes now.\n",
      "The graph has 31 nodes now.\n",
      "The graph has 31 nodes now.\n",
      "The graph has 31 nodes now.\n",
      "The graph has 31 nodes now.\n",
      "The graph has 31 nodes now.\n",
      "The graph has 31 nodes now.\n",
      "The graph has 31 nodes now.\n",
      "The graph has 31 nodes now.\n",
      "The graph has 31 nodes now.\n",
      "The graph has 31 nodes now.\n",
      "The graph has 31 nodes now.\n",
      "The graph has 31 nodes now.\n",
      "The graph has 31 nodes now.\n",
      "The graph has 31 nodes now.\n",
      "The graph has 31 nodes now.\n",
      "The graph has 31 nodes now.\n",
      "The graph has 31 nodes now.\n",
      "The graph has 31 nodes now.\n",
      "The graph has 31 nodes now.\n",
      "The graph has 31 nodes now.\n",
      "The graph has 31 nodes now.\n",
      "The graph has 31 nodes now.\n",
      "The graph has 31 nodes now.\n",
      "The graph has 31 nodes now.\n",
      "The graph has 31 nodes now.\n",
      "The graph has 31 nodes now.\n",
      "The graph has 31 nodes now.\n",
      "The graph has 31 nodes now.\n",
      "The graph has 31 nodes now.\n",
      "The graph has 31 nodes now.\n",
      "The graph has 31 nodes now.\n",
      "The graph has 31 nodes now.\n",
      "The graph has 31 nodes now.\n",
      "The graph has 31 nodes now.\n",
      "The graph has 31 nodes now.\n",
      "The graph has 31 nodes now.\n",
      "The graph has 31 nodes now.\n",
      "The graph has 31 nodes now.\n",
      "The graph has 31 nodes now.\n",
      "The graph has 31 nodes now.\n",
      "The graph has 31 nodes now.\n",
      "The graph has 31 nodes now.\n",
      "The graph has 31 nodes now.\n",
      "The graph has 31 nodes now.\n",
      "The graph has 31 nodes now.\n",
      "The graph has 31 nodes now.\n",
      "The graph has 31 nodes now.\n",
      "The graph has 31 nodes now.\n",
      "The graph has 31 nodes now.\n",
      "The graph has 31 nodes now.\n",
      "The graph has 31 nodes now.\n",
      "The graph has 31 nodes now.\n",
      "The graph has 31 nodes now.\n",
      "The graph has 31 nodes now.\n",
      "The graph has 31 nodes now.\n",
      "The graph has 31 nodes now.\n",
      "The graph has 31 nodes now.\n",
      "The graph has 31 nodes now.\n",
      "The graph has 31 nodes now.\n",
      "The graph has 31 nodes now.\n",
      "The graph has 31 nodes now.\n",
      "The graph has 31 nodes now.\n",
      "The graph has 31 nodes now.\n",
      "The graph has 31 nodes now.\n",
      "The graph has 31 nodes now.\n",
      "The graph has 31 nodes now.\n",
      "The graph has 31 nodes now.\n",
      "The graph has 31 nodes now.\n",
      "The graph has 31 nodes now.\n",
      "The graph has 31 nodes now.\n",
      "The graph has 31 nodes now.\n",
      "The graph has 31 nodes now.\n",
      "The graph has 31 nodes now.\n",
      "The graph has 31 nodes now.\n",
      "The graph has 31 nodes now.\n",
      "The graph has 31 nodes now.\n",
      "The graph has 31 nodes now.\n",
      "The graph has 31 nodes now.\n",
      "The graph has 31 nodes now.\n",
      "The graph has 31 nodes now.\n",
      "The graph has 31 nodes now.\n",
      "The graph has 31 nodes now.\n",
      "The graph has 31 nodes now.\n",
      "The graph has 31 nodes now.\n",
      "The graph has 31 nodes now.\n",
      "The graph has 31 nodes now.\n",
      "The graph has 31 nodes now.\n",
      "The graph has 31 nodes now.\n",
      "The graph has 31 nodes now.\n",
      "The graph has 31 nodes now.\n",
      "The graph has 31 nodes now.\n",
      "The graph has 31 nodes now.\n",
      "The graph has 31 nodes now.\n",
      "The graph has 31 nodes now.\n",
      "The graph has 31 nodes now.\n",
      "The graph has 31 nodes now.\n",
      "The graph has 31 nodes now.\n",
      "The graph has 31 nodes now.\n",
      "The graph has 31 nodes now.\n",
      "The graph has 31 nodes now.\n",
      "The graph has 31 nodes now.\n",
      "The graph has 31 nodes now.\n",
      "The graph has 31 nodes now.\n",
      "The graph has 31 nodes now.\n",
      "The graph has 31 nodes now.\n",
      "The graph has 31 nodes now.\n",
      "The graph has 31 nodes now.\n",
      "The graph has 31 nodes now.\n",
      "The graph has 31 nodes now.\n",
      "The graph has 31 nodes now.\n",
      "The graph has 31 nodes now.\n",
      "The graph has 31 nodes now.\n",
      "The graph has 31 nodes now.\n",
      "The graph has 31 nodes now.\n",
      "The graph has 31 nodes now.\n",
      "The graph has 31 nodes now.\n",
      "The graph has 31 nodes now.\n",
      "The graph has 31 nodes now.\n",
      "The graph has 31 nodes now.\n",
      "The graph has 31 nodes now.\n",
      "The graph has 31 nodes now.\n",
      "The graph has 31 nodes now.\n",
      "The graph has 31 nodes now.\n",
      "The graph has 31 nodes now.\n",
      "The graph has 31 nodes now.\n",
      "The graph has 31 nodes now.\n",
      "The graph has 31 nodes now.\n",
      "The graph has 31 nodes now.\n",
      "The graph has 31 nodes now.\n",
      "The graph has 31 nodes now.\n",
      "The graph has 31 nodes now.\n",
      "The graph has 31 nodes now.\n",
      "The graph has 31 nodes now.\n",
      "The graph has 31 nodes now.\n",
      "The graph has 31 nodes now.\n",
      "The graph has 31 nodes now.\n",
      "The graph has 31 nodes now.\n",
      "The graph has 31 nodes now.\n",
      "The graph has 31 nodes now.\n",
      "The graph has 31 nodes now.\n",
      "The graph has 31 nodes now.\n",
      "The graph has 31 nodes now.\n",
      "The graph has 31 nodes now.\n",
      "The graph has 31 nodes now.\n",
      "The graph has 31 nodes now.\n",
      "The graph has 31 nodes now.\n",
      "The graph has 31 nodes now.\n",
      "The graph has 31 nodes now.\n",
      "The graph has 31 nodes now.\n",
      "The graph has 31 nodes now.\n",
      "The graph has 31 nodes now.\n",
      "The graph has 31 nodes now.\n",
      "The graph has 31 nodes now.\n",
      "The graph has 31 nodes now.\n",
      "The graph has 31 nodes now.\n",
      "The graph has 31 nodes now.\n",
      "The graph has 31 nodes now.\n"
     ]
    }
   ],
   "source": [
    "for name in artists_name_list:\n",
    "    search_results = sp.search(name, type='artist')['artists']['items']\n",
    "    try:\n",
    "        search = search_results[0]\n",
    "        this_artist = extract_artist_features(search)\n",
    "        this_artist_name = this_artist['artist_name']\n",
    "        \n",
    "        G.add_node(this_artist_name, **this_artist, related_found=False)\n",
    "\n",
    "        # Check if the new artist is a related artist of any existing node\n",
    "        for existing_node in G.nodes:\n",
    "            if 'related_found' in G.nodes[existing_node] and G.nodes[existing_node]['related_found'] and this_artist_name in G.nodes[existing_node]['related_found']:\n",
    "                G.add_edge(existing_node, this_artist_name)\n",
    "            print('The graph has', len(G), 'nodes now.')\n",
    "        \n",
    "    except spotipy.SpotifyException as e:\n",
    "        print(\"An error occurred while searching for\", name)\n",
    "        print(\"Error message:\", str(e))"
   ]
  },
  {
   "cell_type": "markdown",
   "id": "d20a2ac1",
   "metadata": {
    "papermill": {
     "duration": 0.024598,
     "end_time": "2022-02-27T23:28:09.200877",
     "exception": false,
     "start_time": "2022-02-27T23:28:09.176279",
     "status": "completed"
    },
    "tags": []
   },
   "source": [
    "### Adding edges and more nodes to the graph\n",
    "\n",
    "This section iterates through the nodes in the graph and finds their related artists. It adds these related artists as nodes to the graph and creates edges between the artists. The process continues until there are no new artists to add or the number of artists in the graph exceeds 25000."
   ]
  },
  {
   "cell_type": "code",
   "execution_count": null,
   "id": "7a16b6cc",
   "metadata": {
    "execution": {
     "iopub.execute_input": "2022-02-27T23:28:09.306885Z",
     "iopub.status.busy": "2022-02-27T23:28:09.306172Z",
     "iopub.status.idle": "2022-02-27T23:28:30.824159Z",
     "shell.execute_reply": "2022-02-27T23:28:30.824684Z",
     "shell.execute_reply.started": "2022-01-03T23:37:30.295659Z"
    },
    "papermill": {
     "duration": 21.550987,
     "end_time": "2022-02-27T23:28:30.824861",
     "exception": false,
     "start_time": "2022-02-27T23:28:09.273874",
     "status": "completed"
    },
    "tags": []
   },
   "outputs": [],
   "source": [
    "# Iterate through the nodes in the graph and find their related artists\n",
    "while True:\n",
    "    num_nodes_before = len(G.nodes)\n",
    "    for x in list(G):\n",
    "        if 'related_found' not in G.nodes[x] or 'artist_id' not in G.nodes[x]:\n",
    "            continue\n",
    "        relateds = sp.artist_related_artists(G.nodes[x]['artist_id'])['artists']\n",
    "        relateds = [extract_artist_features(r) for r in relateds]\n",
    "        relateds_names = [r['artist_name'] for r in relateds]\n",
    "        G.nodes[x]['related_found'] = True\n",
    "        for rname, rdict in zip(relateds_names, relateds):\n",
    "            if rname not in G:\n",
    "                G.add_node(rname, **rdict)\n",
    "                clear_output(wait=True)\n",
    "                print('The graph has', len(G), 'nodes now.')\n",
    "            G.add_edge(x, rname)\n",
    "\n",
    "    num_nodes_after = len(G.nodes)\n",
    "    if num_nodes_after == num_nodes_before or num_nodes_after > 25000:\n",
    "        break\n",
    "\n",
    "print(\"Number of edges:\", len(G.edges))"
   ]
  },
  {
   "cell_type": "code",
   "execution_count": null,
   "id": "f1136392",
   "metadata": {},
   "outputs": [],
   "source": [
    "plt.figure(figsize=(10, 10))\n",
    "nx.draw_networkx(G, with_labels=True, node_size=100, font_size=5, alpha=0.7)\n",
    "plt.axis('off')\n",
    "plt.show()"
   ]
  },
  {
   "cell_type": "code",
   "execution_count": null,
   "id": "597a8950",
   "metadata": {},
   "outputs": [],
   "source": []
  }
 ],
 "metadata": {
  "kernelspec": {
   "display_name": "Python 3 (ipykernel)",
   "language": "python",
   "name": "python3"
  },
  "language_info": {
   "codemirror_mode": {
    "name": "ipython",
    "version": 3
   },
   "file_extension": ".py",
   "mimetype": "text/x-python",
   "name": "python",
   "nbconvert_exporter": "python",
   "pygments_lexer": "ipython3",
   "version": "3.9.13"
  },
  "papermill": {
   "default_parameters": {},
   "duration": 51.595145,
   "end_time": "2022-02-27T23:28:34.079532",
   "environment_variables": {},
   "exception": null,
   "input_path": "__notebook__.ipynb",
   "output_path": "__notebook__.ipynb",
   "parameters": {},
   "start_time": "2022-02-27T23:27:42.484387",
   "version": "2.3.3"
  }
 },
 "nbformat": 4,
 "nbformat_minor": 5
}
