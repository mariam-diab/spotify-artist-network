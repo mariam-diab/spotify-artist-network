{
 "cells": [
  {
   "cell_type": "code",
   "execution_count": 9,
   "id": "e8db93a1",
   "metadata": {},
   "outputs": [],
   "source": [
    "import spotipy\n",
    "from spotipy.oauth2 import SpotifyClientCredentials"
   ]
  },
  {
   "cell_type": "code",
   "execution_count": 10,
   "id": "fd745d74",
   "metadata": {},
   "outputs": [],
   "source": [
    "client_id = \"8275ae5a64fc43dfa77675027d68c1df\"\n",
    "client_secret = \"1ac1e6317aa840d5a50935ed1689535d\" "
   ]
  },
  {
   "cell_type": "code",
   "execution_count": 11,
   "id": "87cfc369",
   "metadata": {},
   "outputs": [],
   "source": [
    "client_credentials_manager = SpotifyClientCredentials(client_id, client_secret)\n",
    "sp = spotipy.Spotify(client_credentials_manager=client_credentials_manager)"
   ]
  },
  {
   "cell_type": "code",
   "execution_count": 12,
   "id": "c0b24baf",
   "metadata": {},
   "outputs": [],
   "source": [
    "# Open the existing file in append mode\n",
    "file_path = 'artists.txt'\n",
    "file = open(file_path, 'a', encoding='utf-8')"
   ]
  },
  {
   "cell_type": "code",
   "execution_count": 13,
   "id": "07a66372",
   "metadata": {},
   "outputs": [],
   "source": [
    "# Retrieve Egyptian artists from Spotify and write their names to the file\n",
    "results = sp.search(q='Egypt', type='artist', limit=50)\n",
    "artists = results['artists']['items']"
   ]
  },
  {
   "cell_type": "code",
   "execution_count": 14,
   "id": "3c724eec",
   "metadata": {},
   "outputs": [],
   "source": [
    "for artist in artists:\n",
    "    file.write(artist['name'] + '\\n')"
   ]
  },
  {
   "cell_type": "code",
   "execution_count": 15,
   "id": "01af6dfb",
   "metadata": {},
   "outputs": [],
   "source": [
    "# Retrieve Egyptian artists from Spotify and append their names to the file\n",
    "results = sp.search(q='Egypt', type='artist', limit=50)\n",
    "artists = results['artists']['items']"
   ]
  },
  {
   "cell_type": "code",
   "execution_count": 8,
   "id": "51f0177e",
   "metadata": {},
   "outputs": [
    {
     "name": "stdout",
     "output_type": "stream",
     "text": [
      "Successfully appended the names of Egyptian singers to artists.txt.\n"
     ]
    }
   ],
   "source": [
    "file.close()\n",
    "print(f\"Successfully appended the names of Egyptian singers to {file_path}.\")"
   ]
  }
 ],
 "metadata": {
  "kernelspec": {
   "display_name": "Python 3 (ipykernel)",
   "language": "python",
   "name": "python3"
  },
  "language_info": {
   "codemirror_mode": {
    "name": "ipython",
    "version": 3
   },
   "file_extension": ".py",
   "mimetype": "text/x-python",
   "name": "python",
   "nbconvert_exporter": "python",
   "pygments_lexer": "ipython3",
   "version": "3.11.1"
  }
 },
 "nbformat": 4,
 "nbformat_minor": 5
}
